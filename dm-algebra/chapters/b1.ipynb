{
 "cells": [
  {
   "cell_type": "markdown",
   "source": [
    "# 1. what is numpy ?\n",
    "\n",
    "A python library that provides :\n",
    "\n",
    "- **multidimemsional** array object\n",
    "- various derived objects , such as **masked arrays** and **matrices**\n",
    "\n",
    "\n",
    "an assortment of routines for fast operations on arrays , including -\n",
    "\n",
    "- mathematical\n",
    "- logical\n",
    "- shape manipulation\n",
    "- sorting\n",
    "- selecting IO\n",
    "- discrete Fourier transforms\n",
    "- basic linear algebra\n",
    "- basic statictical operations\n",
    "- random simulation\n",
    "- ..."
   ],
   "metadata": {
    "collapsed": false
   }
  },
  {
   "cell_type": "code",
   "execution_count": 74,
   "outputs": [
    {
     "data": {
      "text/plain": "(1, 6)"
     },
     "execution_count": 74,
     "metadata": {},
     "output_type": "execute_result"
    }
   ],
   "source": [
    "import numpy as np\n",
    "\n",
    "a = np.arange(6)\n",
    "a2 = a[np.newaxis, :]\n",
    "a2.shape"
   ],
   "metadata": {
    "collapsed": false
   }
  },
  {
   "cell_type": "markdown",
   "source": [
    " # 2. ndarray\n",
    "\n",
    "> what is an array\n",
    "\n",
    "- **dtype**: The elements are all of the same type, referred to as the array `dtype` ;\n",
    "- **rank**: The `rank` of the array is the number of dimensions\n",
    "- **shape** : the `shape` of the array is a tuple of integers giving the size of the array along each dimension ."
   ],
   "metadata": {
    "collapsed": false
   }
  },
  {
   "cell_type": "code",
   "execution_count": 75,
   "outputs": [
    {
     "name": "stdout",
     "output_type": "stream",
     "text": [
      "\n",
      "        dtype is int64,\n",
      "        dim is 3,\n",
      "        shape is (3, 2, 4),\n",
      "        value is $[[[0 1 2 3]\n",
      "  [4 5 6 7]]\n",
      "\n",
      " [[0 1 2 3]\n",
      "  [4 5 6 7]]\n",
      "\n",
      " [[0 1 2 3]\n",
      "  [4 5 6 7]]]\n",
      "        \n"
     ]
    }
   ],
   "source": [
    "def print_detail_of_ndarray(a):\n",
    "    print(\n",
    "        f\"\"\"\n",
    "        dtype is {a.dtype},\n",
    "        dim is {a.ndim},\n",
    "        shape is {a.shape},\n",
    "        value is ${a}\n",
    "        \"\"\"\n",
    "    )\n",
    "\n",
    "\n",
    "a = np.array([[[0, 1, 2, 3],\n",
    "               [4, 5, 6, 7]],\n",
    "\n",
    "              [[0, 1, 2, 3],\n",
    "               [4, 5, 6, 7]],\n",
    "\n",
    "              [[0, 1, 2, 3],\n",
    "               [4, 5, 6, 7]]])\n",
    "\n",
    "print_detail_of_ndarray(a)"
   ],
   "metadata": {
    "collapsed": false
   }
  },
  {
   "cell_type": "markdown",
   "source": [
    "> n-dimension of array\n",
    "\n",
    "- 1-D : called **vector**\n",
    "- 2-D: called **matrix**\n",
    "- 3-D or higher : called **tensor**"
   ],
   "metadata": {
    "collapsed": false
   }
  },
  {
   "cell_type": "markdown",
   "source": [
    "> axes\n",
    "\n",
    "```\n",
    "[[0., 0., 0.],\n",
    "[1., 1., 1.]]\n",
    "```\n",
    "\n",
    "Your array has 2 axes. The first axis has a length of 2 and the second axis has a length of 3..\n",
    "\n",
    "And let's see how to create an array ."
   ],
   "metadata": {
    "collapsed": false
   }
  },
  {
   "cell_type": "markdown",
   "source": [
    "## 2.1 how to create a basic array\n",
    "\n",
    "- `zeros` ,`ones`, `empty`\n",
    "- `arrange` : start , end and steps\n",
    "- `linspace`: split start -> end to fix size"
   ],
   "metadata": {
    "collapsed": false
   }
  },
  {
   "cell_type": "code",
   "execution_count": 76,
   "outputs": [
    {
     "name": "stdout",
     "output_type": "stream",
     "text": [
      "\n",
      "        dtype is float64,\n",
      "        dim is 2,\n",
      "        shape is (2, 3),\n",
      "        value is $[[0. 0. 0.]\n",
      " [0. 0. 0.]]\n",
      "        \n",
      "\n",
      "        dtype is float64,\n",
      "        dim is 2,\n",
      "        shape is (2, 3),\n",
      "        value is $[[0. 0. 0.]\n",
      " [0. 0. 0.]]\n",
      "        \n"
     ]
    }
   ],
   "source": [
    "\n",
    "##\n",
    "print_detail_of_ndarray(np.zeros((2, 3)))"
   ],
   "metadata": {
    "collapsed": false
   }
  },
  {
   "cell_type": "code",
   "execution_count": 77,
   "outputs": [],
   "source": [
    "print_detail_of_ndarray(np.arange(5))"
   ],
   "metadata": {
    "collapsed": false
   }
  },
  {
   "cell_type": "code",
   "execution_count": 78,
   "outputs": [],
   "source": [
    "print_detail_of_ndarray(np.arange(2, 9, 2))"
   ],
   "metadata": {
    "collapsed": false
   }
  },
  {
   "cell_type": "code",
   "execution_count": 79,
   "outputs": [],
   "source": [
    "## split 0->10 into 5\n",
    "print_detail_of_ndarray(np.linspace(0, 10, num=5))"
   ],
   "metadata": {
    "collapsed": false
   }
  },
  {
   "cell_type": "code",
   "execution_count": 80,
   "outputs": [],
   "source": [
    "print_detail_of_ndarray(np.ones(2, dtype=np.int64))"
   ],
   "metadata": {
    "collapsed": false
   }
  },
  {
   "cell_type": "markdown",
   "source": [
    "## 2.2 adding , removing and sorting elements"
   ],
   "metadata": {
    "collapsed": false
   }
  },
  {
   "cell_type": "code",
   "execution_count": null,
   "outputs": [],
   "source": [
    "a = np.array([1, 2, 3, 4])\n",
    "b = np.array([5, 6, 7, 8])\n",
    "\n",
    "print_detail_of_ndarray(np.concatenate((a, b)))"
   ],
   "metadata": {
    "collapsed": false,
    "pycharm": {
     "is_executing": true
    }
   }
  },
  {
   "cell_type": "code",
   "execution_count": null,
   "outputs": [],
   "source": [
    "x = np.array([[1, 2], [3, 4]])\n",
    "y = np.array([[5, 6]])\n",
    "print_detail_of_ndarray(np.concatenate((x, y), axis=0))"
   ],
   "metadata": {
    "collapsed": false,
    "pycharm": {
     "is_executing": true
    }
   }
  },
  {
   "cell_type": "markdown",
   "source": [
    "## 2.3 reshape\n",
    "\n",
    "- you can reshape an array without **changing the data  .**\n",
    "- the array you want to produce needs to **have the same number** of elements as the original array .\n",
    "- `order` :\n",
    "\t- `C`: means C-like `clang`\n",
    "\t- F: `Fortran-like` index\n",
    "\t- `A`: means to read/write the elements in Fortran-like index order if a is Fortran contiguous in memory, C-like order otherwise."
   ],
   "metadata": {
    "collapsed": false
   }
  },
  {
   "cell_type": "code",
   "execution_count": null,
   "outputs": [],
   "source": [
    "a = np.arange(6)\n",
    "\n",
    "print_detail_of_ndarray(\n",
    "    a.reshape(3, 2)\n",
    ")"
   ],
   "metadata": {
    "collapsed": false,
    "pycharm": {
     "is_executing": true
    }
   }
  },
  {
   "cell_type": "code",
   "execution_count": null,
   "outputs": [],
   "source": [
    "print_detail_of_ndarray(\n",
    "    a.reshape(2, 1, 3, order='C')\n",
    ")"
   ],
   "metadata": {
    "collapsed": false,
    "pycharm": {
     "is_executing": true
    }
   }
  },
  {
   "cell_type": "code",
   "execution_count": null,
   "outputs": [],
   "source": [
    "## 2.4 add new axis to an array"
   ],
   "metadata": {
    "collapsed": false,
    "pycharm": {
     "is_executing": true
    }
   }
  },
  {
   "cell_type": "code",
   "execution_count": null,
   "outputs": [
    {
     "name": "stdout",
     "output_type": "stream",
     "text": [
      "\n",
      "        dtype is int64,\n",
      "        dim is 2,\n",
      "        shape is (1, 6),\n",
      "        value is $[[1 2 3 4 5 6]]\n",
      "        \n"
     ]
    }
   ],
   "source": [
    "a = np.array([1, 2, 3, 4, 5, 6])\n",
    "print_detail_of_ndarray(a[np.newaxis, :])"
   ],
   "metadata": {
    "collapsed": false,
    "pycharm": {
     "is_executing": true
    }
   }
  },
  {
   "cell_type": "code",
   "execution_count": null,
   "outputs": [
    {
     "name": "stdout",
     "output_type": "stream",
     "text": [
      "\n",
      "        dtype is int64,\n",
      "        dim is 2,\n",
      "        shape is (6, 1),\n",
      "        value is $[[1]\n",
      " [2]\n",
      " [3]\n",
      " [4]\n",
      " [5]\n",
      " [6]]\n",
      "        \n"
     ]
    }
   ],
   "source": [
    "print_detail_of_ndarray(a[:, np.newaxis])"
   ],
   "metadata": {
    "collapsed": false,
    "pycharm": {
     "is_executing": true
    }
   }
  },
  {
   "cell_type": "code",
   "execution_count": null,
   "outputs": [],
   "source": [
    "## 2.4 Indexing and slicing"
   ],
   "metadata": {
    "collapsed": false,
    "pycharm": {
     "is_executing": true
    }
   }
  },
  {
   "cell_type": "code",
   "execution_count": null,
   "outputs": [],
   "source": [
    "data = np.array([1, 2, 3])"
   ],
   "metadata": {
    "collapsed": false,
    "pycharm": {
     "is_executing": true
    }
   }
  },
  {
   "cell_type": "code",
   "execution_count": null,
   "outputs": [
    {
     "data": {
      "text/plain": "2"
     },
     "execution_count": 91,
     "metadata": {},
     "output_type": "execute_result"
    }
   ],
   "source": [
    "data[1]"
   ],
   "metadata": {
    "collapsed": false,
    "pycharm": {
     "is_executing": true
    }
   }
  },
  {
   "cell_type": "code",
   "execution_count": null,
   "outputs": [
    {
     "data": {
      "text/plain": "array([1, 2])"
     },
     "execution_count": 93,
     "metadata": {},
     "output_type": "execute_result"
    }
   ],
   "source": [
    "data[0:2]"
   ],
   "metadata": {
    "collapsed": false,
    "pycharm": {
     "is_executing": true
    }
   }
  },
  {
   "cell_type": "code",
   "execution_count": null,
   "outputs": [
    {
     "data": {
      "text/plain": "array([3])"
     },
     "execution_count": 95,
     "metadata": {},
     "output_type": "execute_result"
    }
   ],
   "source": [
    "data[-1:]"
   ],
   "metadata": {
    "collapsed": false,
    "pycharm": {
     "is_executing": true
    }
   }
  },
  {
   "cell_type": "code",
   "execution_count": null,
   "outputs": [
    {
     "name": "stdout",
     "output_type": "stream",
     "text": [
      "\n",
      "        dtype is int64,\n",
      "        dim is 2,\n",
      "        shape is (3, 4),\n",
      "        value is $[[ 1  2  3  4]\n",
      " [ 5  6  7  8]\n",
      " [ 9 10 11 12]]\n",
      "        \n"
     ]
    }
   ],
   "source": [
    "a = np.array([[1, 2, 3, 4], [5, 6, 7, 8], [9, 10, 11, 12]])\n",
    "print_detail_of_ndarray(a)"
   ],
   "metadata": {
    "collapsed": false,
    "pycharm": {
     "is_executing": true
    }
   }
  },
  {
   "cell_type": "code",
   "execution_count": null,
   "outputs": [
    {
     "name": "stdout",
     "output_type": "stream",
     "text": [
      "\n",
      "        dtype is int64,\n",
      "        dim is 1,\n",
      "        shape is (6,),\n",
      "        value is $[1 2 3 4 5 6]\n",
      "        \n"
     ]
    }
   ],
   "source": [
    "# 2D -> 1D . filter ?\n",
    "print_detail_of_ndarray(a[a < 7])"
   ],
   "metadata": {
    "collapsed": false,
    "pycharm": {
     "is_executing": true
    }
   }
  },
  {
   "cell_type": "code",
   "execution_count": null,
   "outputs": [
    {
     "name": "stdout",
     "output_type": "stream",
     "text": [
      "\n",
      "        dtype is int64,\n",
      "        dim is 2,\n",
      "        shape is (2, 4),\n",
      "        value is $[[0 0 0 0]\n",
      " [0 1 2 3]]\n",
      "        \n"
     ]
    }
   ],
   "source": [
    "a = np.array([[1, 2, 3, 4], [5, 6, 7, 8], [9, 10, 11, 12]])\n",
    "b = np.nonzero(a < 5)\n",
    "# b is a tuple\n",
    "print_detail_of_ndarray(np.array(b))"
   ],
   "metadata": {
    "collapsed": false,
    "pycharm": {
     "is_executing": true
    }
   }
  },
  {
   "cell_type": "code",
   "execution_count": null,
   "outputs": [
    {
     "data": {
      "text/plain": "[(0, 0), (0, 1), (0, 2), (0, 3)]"
     },
     "execution_count": 103,
     "metadata": {},
     "output_type": "execute_result"
    }
   ],
   "source": [
    "list_of_coordinates = list(zip(b[0], b[1]))\n",
    "list_of_coordinates"
   ],
   "metadata": {
    "collapsed": false,
    "pycharm": {
     "is_executing": true
    }
   }
  },
  {
   "cell_type": "markdown",
   "source": [
    "## 2.4 ndarray 优势\n",
    "\n",
    "-   ndarray数组中所有元素的 **数据类型** 相同、**数据地址连续**，**批量操作** 数组元素时速度更快。而 `list` 列表中元素的数据类型可能不同，需要通过寻址方式找到下一个元素。\n",
    "-   ndarray 数组支持 **广播** 机制，矩阵运算时不需要写 `for` 循环。\n",
    "-   NumPy底层使用 `C语言`编写，内置并行计算功能，运行速度高于Python代码。"
   ],
   "metadata": {
    "collapsed": false
   }
  },
  {
   "cell_type": "markdown",
   "source": [
    "## 2.5 标量计算"
   ],
   "metadata": {
    "collapsed": false
   }
  },
  {
   "cell_type": "code",
   "execution_count": null,
   "outputs": [
    {
     "name": "stdout",
     "output_type": "stream",
     "text": [
      "\n",
      "        dtype is float64,\n",
      "        dim is 2,\n",
      "        shape is (2, 3),\n",
      "        value is $[[1.         0.5        0.33333333]\n",
      " [0.25       0.2        0.16666667]]\n",
      "        \n"
     ]
    }
   ],
   "source": [
    "# 标量除以数组，用标量除以数组的每一个元素\n",
    "arr = np.array([[1., 2., 3.], [4., 5., 6.]])\n",
    "\n",
    "print_detail_of_ndarray(1. / arr)"
   ],
   "metadata": {
    "collapsed": false,
    "pycharm": {
     "is_executing": true
    }
   }
  },
  {
   "cell_type": "code",
   "execution_count": null,
   "outputs": [
    {
     "name": "stdout",
     "output_type": "stream",
     "text": [
      "\n",
      "        dtype is float64,\n",
      "        dim is 2,\n",
      "        shape is (2, 3),\n",
      "        value is $[[ 2.  4.  6.]\n",
      " [ 8. 10. 12.]]\n",
      "        \n"
     ]
    }
   ],
   "source": [
    "# 标量乘以数组，用标量乘以数组的每一个元素\n",
    "arr = np.array([[1., 2., 3.], [4., 5., 6.]])\n",
    "print_detail_of_ndarray(2.0 * arr)"
   ],
   "metadata": {
    "collapsed": false,
    "pycharm": {
     "is_executing": true
    }
   }
  },
  {
   "cell_type": "code",
   "execution_count": null,
   "outputs": [
    {
     "name": "stdout",
     "output_type": "stream",
     "text": [
      "\n",
      "        dtype is float64,\n",
      "        dim is 2,\n",
      "        shape is (2, 3),\n",
      "        value is $[[3. 4. 5.]\n",
      " [6. 7. 8.]]\n",
      "        \n"
     ]
    }
   ],
   "source": [
    "# 标量加上数组，用标量加上数组的每一个元素\n",
    "arr = np.array([[1., 2., 3.], [4., 5., 6.]])\n",
    "print_detail_of_ndarray(2.0 + arr)"
   ],
   "metadata": {
    "collapsed": false,
    "pycharm": {
     "is_executing": true
    }
   }
  },
  {
   "cell_type": "markdown",
   "source": [
    "## 2.6 2个矢量 ndarray 之间的运算"
   ],
   "metadata": {
    "collapsed": false
   }
  },
  {
   "cell_type": "code",
   "execution_count": null,
   "outputs": [
    {
     "name": "stdout",
     "output_type": "stream",
     "text": [
      "\n",
      "        dtype is float64,\n",
      "        dim is 2,\n",
      "        shape is (2, 3),\n",
      "        value is $[[-10. -10. -10.]\n",
      " [-17. -17. -17.]]\n",
      "        \n"
     ]
    }
   ],
   "source": [
    "# 数组 减去 数组， 用对应位置的元素相减\n",
    "arr1 = np.array([[1., 2., 3.], [4., 5., 6.]])\n",
    "arr2 = np.array([[11., 12., 13.], [21., 22., 23.]])\n",
    "print_detail_of_ndarray(arr1 - arr2)"
   ],
   "metadata": {
    "collapsed": false,
    "pycharm": {
     "is_executing": true
    }
   }
  },
  {
   "cell_type": "code",
   "execution_count": null,
   "outputs": [
    {
     "name": "stdout",
     "output_type": "stream",
     "text": [
      "\n",
      "        dtype is float64,\n",
      "        dim is 2,\n",
      "        shape is (2, 3),\n",
      "        value is $[[12. 14. 16.]\n",
      " [25. 27. 29.]]\n",
      "        \n"
     ]
    }
   ],
   "source": [
    "# 数组 加上 数组， 用对应位置的元素相加\n",
    "arr1 = np.array([[1., 2., 3.], [4., 5., 6.]])\n",
    "arr2 = np.array([[11., 12., 13.], [21., 22., 23.]])\n",
    "print_detail_of_ndarray(arr1 + arr2)"
   ],
   "metadata": {
    "collapsed": false,
    "pycharm": {
     "is_executing": true
    }
   }
  },
  {
   "cell_type": "code",
   "execution_count": null,
   "outputs": [
    {
     "name": "stdout",
     "output_type": "stream",
     "text": [
      "\n",
      "        dtype is float64,\n",
      "        dim is 2,\n",
      "        shape is (2, 3),\n",
      "        value is $[[1.         1.41421356 1.73205081]\n",
      " [2.         2.23606798 2.44948974]]\n",
      "        \n"
     ]
    }
   ],
   "source": [
    "# 数组开根号，将每个位置的元素都开根号\n",
    "print_detail_of_ndarray(arr ** 0.5)"
   ],
   "metadata": {
    "collapsed": false,
    "pycharm": {
     "is_executing": true
    }
   }
  },
  {
   "cell_type": "markdown",
   "source": [
    "## 2.7 ndarray 数组的索引和切片\n",
    "\n",
    "在编写模型过程中，通常需要访问或者修改ndarray数组某个位置的元素，则需要使用ndarray数组的索引。有些情况下可能需要访问或者修改一些区域的元素，则需要使用ndarray数组的切片。\n",
    "\n",
    "ndarray数组的索引和切片的使用方式与Python中的list类似。通过[ -n , n-1 ]的下标进行索引，通过内置的slice函数，设置其start,stop和step参数进行切片，从原数组中切割出一个新数组。\n",
    "\n",
    "ndarray数组的索引是一个内容丰富的主题，因为选取数据子集或单个元素的方式有很多。下面从一维数组和多维数组两个维度介绍索引和切片的方法。"
   ],
   "metadata": {
    "collapsed": false
   }
  },
  {
   "cell_type": "markdown",
   "source": [
    "### 2.7.1  一维 ndarray 数组的索引和切片\n",
    "\n",
    "从表面上看，一维数组跟Python列表的功能类似，它们重要区别在于：\n",
    "\n",
    "- 数组切片产生的新数组，还是指向原来的内存区域，数据不会被复制，视图上的任何修改都会直接反映到源数组上。将一个标量值赋值给一个切片时，该值会自动传播到整个选区。"
   ],
   "metadata": {
    "collapsed": false
   }
  },
  {
   "cell_type": "code",
   "execution_count": 90,
   "outputs": [
    {
     "name": "stdout",
     "output_type": "stream",
     "text": [
      "\n",
      "        dtype is int64,\n",
      "        dim is 1,\n",
      "        shape is (15,),\n",
      "        value is $[ 0  1  2  3 10 10 10  7  8  9 10 11 12 13 14]\n",
      "        \n"
     ]
    }
   ],
   "source": [
    "#将一个标量值赋值给一个切片时，该值会自动传播到整个选区。\n",
    "a = np.arange(15)\n",
    "a[4:7] = 10\n",
    "print_detail_of_ndarray(a)"
   ],
   "metadata": {
    "collapsed": false
   }
  },
  {
   "cell_type": "markdown",
   "source": [
    "### 2.7.2 多维 ndarray 数组的索引和切片\n",
    "\n",
    "多维ndarray数组的索引和切片具有如下特点：\n",
    "\n",
    "- 在多维数组中，各索引位置上的元素不再是标量而是 **多维数组** 。\n",
    "- 以逗号隔开的索引列表来选取单个元素。\n",
    "- 在多维数组中，如果省略了后面的索引，则返回对象会是一个维度低一点的ndarray。"
   ],
   "metadata": {
    "collapsed": false
   }
  },
  {
   "cell_type": "code",
   "execution_count": 92,
   "outputs": [],
   "source": [
    "# 创建一个多维数组\n",
    "a = np.arange(30)\n",
    "arr3d = a.reshape(5, 3, 2)"
   ],
   "metadata": {
    "collapsed": false
   }
  },
  {
   "cell_type": "code",
   "execution_count": 94,
   "outputs": [
    {
     "name": "stdout",
     "output_type": "stream",
     "text": [
      "\n",
      "        dtype is int64,\n",
      "        dim is 2,\n",
      "        shape is (3, 2),\n",
      "        value is $[[0 1]\n",
      " [2 3]\n",
      " [4 5]]\n",
      "        \n"
     ]
    }
   ],
   "source": [
    "print_detail_of_ndarray(arr3d[0])"
   ],
   "metadata": {
    "collapsed": false
   }
  },
  {
   "cell_type": "code",
   "execution_count": 96,
   "outputs": [
    {
     "name": "stdout",
     "output_type": "stream",
     "text": [
      "\n",
      "        dtype is int64,\n",
      "        dim is 1,\n",
      "        shape is (2,),\n",
      "        value is $[2 3]\n",
      "        \n"
     ]
    }
   ],
   "source": [
    "print_detail_of_ndarray(arr3d[0][1])"
   ],
   "metadata": {
    "collapsed": false
   }
  },
  {
   "cell_type": "markdown",
   "source": [
    "# 3. 支持统计学方法\n",
    "\n",
    "- mean：计算算术平均数，零长度数组的mean为NaN。\n",
    "- std和var：计算标准差和方差，自由度可调（默认为n）。\n",
    "- sum ：对数组中全部或某轴向的元素求和，零长度数组的sum为0。\n",
    "- max和min：计算最大值和最小值。\n",
    "- argmin和argmax：分别为最大和最小元素的索引。\n",
    "- cumsum：计算所有元素的累加。\n",
    "- cumprod：计算所有元素的累积。"
   ],
   "metadata": {
    "collapsed": false
   }
  },
  {
   "cell_type": "code",
   "execution_count": 98,
   "outputs": [
    {
     "name": "stdout",
     "output_type": "stream",
     "text": [
      "\n",
      "        dtype is float64,\n",
      "        dim is 1,\n",
      "        shape is (3,),\n",
      "        value is $[2. 5. 8.]\n",
      "        \n"
     ]
    }
   ],
   "source": [
    "arr = np.array([[1, 2, 3], [4, 5, 6], [7, 8, 9]])\n",
    "\n",
    "# 指定计算的维度\n",
    "# 沿着第1维求平均，也就是将[1, 2, 3]取平均等于2，[4, 5, 6]取平均等于5，[7, 8, 9]取平均等于8\n",
    "print_detail_of_ndarray(arr.mean(axis=1))"
   ],
   "metadata": {
    "collapsed": false
   }
  },
  {
   "cell_type": "code",
   "execution_count": 100,
   "outputs": [
    {
     "name": "stdout",
     "output_type": "stream",
     "text": [
      "\n",
      "        dtype is float64,\n",
      "        dim is 1,\n",
      "        shape is (3,),\n",
      "        value is $[4. 5. 6.]\n",
      "        \n"
     ]
    }
   ],
   "source": [
    "## 把 1 + 4 + 7 /3 ?\n",
    "print_detail_of_ndarray(arr.mean(axis=0))"
   ],
   "metadata": {
    "collapsed": false
   }
  },
  {
   "cell_type": "code",
   "execution_count": 102,
   "outputs": [
    {
     "data": {
      "text/plain": "array([12, 15, 18])"
     },
     "execution_count": 102,
     "metadata": {},
     "output_type": "execute_result"
    }
   ],
   "source": [
    "# 沿着第0维求和，也就是将[1, 4, 7]求和等于12，[2, 5, 8]求和等于15，[3, 6, 9]求和等于18\n",
    "arr.sum(axis=0)"
   ],
   "metadata": {
    "collapsed": false
   }
  },
  {
   "cell_type": "code",
   "execution_count": 111,
   "outputs": [
    {
     "data": {
      "text/plain": "array([25, 14, 17, 21, 13])"
     },
     "execution_count": 111,
     "metadata": {},
     "output_type": "execute_result"
    }
   ],
   "source": [
    "# 随机选取部分元素\n",
    "a = np.arange(30)\n",
    "b = np.random.choice(a, size=5)\n",
    "b"
   ],
   "metadata": {
    "collapsed": false
   }
  },
  {
   "cell_type": "markdown",
   "source": [
    "# 4.  线性代数\n",
    "\n",
    "线性代数（如矩阵乘法、矩阵分解、行列式以及其他方阵数学等）是任何数组库的重要组成部分，NumPy中实现了线性代数中常用的各种操作，并形成了numpy.linalg线性代数相关的模块。本节主要介绍如下函数：\n",
    "\n",
    "- `diag`：以一维数组的形式返回方阵的对角线（或非对角线）元素，或将一维数组转换为方阵（非对角线元素为0）。\n",
    "- `dot`：矩阵乘法。\n",
    "- `trace`：计算对角线元素的和。\n",
    "- `det`：计算矩阵行列式。\n",
    "- `eig`：计算方阵的特征值和特征向量。\n",
    "- `inv`：计算方阵的逆。"
   ],
   "metadata": {
    "collapsed": false
   }
  },
  {
   "cell_type": "code",
   "execution_count": 113,
   "outputs": [
    {
     "name": "stdout",
     "output_type": "stream",
     "text": [
      "a: \n",
      "[ 0  1  2  3  4  5  6  7  8  9 10 11]\n",
      "b: \n",
      "[[ 0  1  2  3]\n",
      " [ 4  5  6  7]\n",
      " [ 8  9 10 11]]\n",
      "c: \n",
      "[[ 0  1  2]\n",
      " [ 3  4  5]\n",
      " [ 6  7  8]\n",
      " [ 9 10 11]]\n",
      "d: \n",
      "[[ 42  48  54]\n",
      " [114 136 158]\n",
      " [186 224 262]]\n"
     ]
    }
   ],
   "source": [
    "# 矩阵相乘\n",
    "a = np.arange(12)\n",
    "b = a.reshape([3, 4])\n",
    "c = a.reshape([4, 3])\n",
    "# 矩阵b的第二维大小，必须等于矩阵c的第一维大小\n",
    "d = b.dot(c)  # 等价于 np.dot(b, c)\n",
    "print('a: \\n{}'.format(a))\n",
    "print('b: \\n{}'.format(b))\n",
    "print('c: \\n{}'.format(c))\n",
    "print('d: \\n{}'.format(d))"
   ],
   "metadata": {
    "collapsed": false
   }
  },
  {
   "cell_type": "code",
   "execution_count": 114,
   "outputs": [
    {
     "name": "stdout",
     "output_type": "stream",
     "text": [
      "d: \n",
      "[[ 42  48  54]\n",
      " [114 136 158]\n",
      " [186 224 262]]\n",
      "e: \n",
      "[ 42 136 262]\n",
      "f: \n",
      "[[ 42   0   0]\n",
      " [  0 136   0]\n",
      " [  0   0 262]]\n"
     ]
    }
   ],
   "source": [
    "# numpy.linalg  中有一组标准的矩阵分解运算以及诸如求逆和行列式之类的东西\n",
    "# np.linalg.diag 以一维数组的形式返回方阵的对角线（或非对角线）元素，\n",
    "# 或将一维数组转换为方阵（非对角线元素为0）\n",
    "e = np.diag(d)\n",
    "f = np.diag(e)\n",
    "print('d: \\n{}'.format(d))\n",
    "print('e: \\n{}'.format(e))\n",
    "print('f: \\n{}'.format(f))"
   ],
   "metadata": {
    "collapsed": false
   }
  },
  {
   "cell_type": "markdown",
   "source": [
    "# 5. 文件续写"
   ],
   "metadata": {
    "collapsed": false
   }
  },
  {
   "cell_type": "markdown",
   "source": [
    "```python\n",
    "# 使用np.fromfile从文本文件'housing.data'读入数据\n",
    "# 这里要设置参数sep = ' '，表示使用空白字符来分隔数据\n",
    "# 空格或者回车都属于空白字符，读入的数据被转化成1维数组\n",
    "d = np.fromfile('./work/housing.data', sep = ' ')\n",
    "d\n",
    "\n",
    "# 产生随机数组a\n",
    "a = np.random.rand(3,3)\n",
    "np.save('a.npy', a)\n",
    "\n",
    "# 从磁盘文件'a.npy'读入数组\n",
    "b = np.load('a.npy')\n",
    "\n",
    "# 检查a和b的数值是否一样\n",
    "check = (a == b).all()\n",
    "check\n",
    "```"
   ],
   "metadata": {
    "collapsed": false
   }
  },
  {
   "cell_type": "markdown",
   "source": [
    "# 6. 例子\n",
    "\n",
    "## 6.1 激活函数 `Sigmoid` 和 `ReLU`\n",
    "\n",
    "使用ndarray数组可以很方便的构建数学函数，并利用其底层的矢量计算能力快速实现计算。下面以神经网络中比较常用激活函数Sigmoid和ReLU为例，介绍代码实现过程 .\n",
    "\n",
    "$$\n",
    "y = \\frac {1}{1 + e^{-x}}\n",
    "$$\n",
    "\n",
    "$$\n",
    "\\begin{equation}\n",
    "y=\\left\\{\n",
    "\\begin{aligned}\n",
    "0, (x < 0), \\\\\n",
    "x, (x >= 0).\n",
    "\\end{aligned}\n",
    "\\right.\n",
    "\\end{equation}\n",
    "$$"
   ],
   "metadata": {
    "collapsed": false
   }
  },
  {
   "cell_type": "code",
   "execution_count": 118,
   "outputs": [
    {
     "data": {
      "text/plain": "<Figure size 800x300 with 2 Axes>",
      "image/png": "[encoded data removed]"
     },
     "metadata": {},
     "output_type": "display_data"
    }
   ],
   "source": [
    "# ReLU和Sigmoid激活函数示意图\n",
    "import numpy as np\n",
    "# import matplotlib inline\n",
    "import matplotlib.pyplot as plt\n",
    "import matplotlib.patches as patches\n",
    "\n",
    "#设置图片大小\n",
    "plt.figure(figsize=(8, 3))\n",
    "\n",
    "# x是1维数组，数组大小是从-10. 到10.的实数，每隔0.1取一个点\n",
    "x = np.arange(-10, 10, 0.1)\n",
    "\n",
    "# 计算 Sigmoid函数\n",
    "s = 1.0 / (1 + np.exp(- x))\n",
    "\n",
    "# 计算ReLU函数\n",
    "y = np.clip(x, a_min=0., a_max=None)\n",
    "\n",
    "#########################################################\n",
    "# 以下部分为画图程序\n",
    "\n",
    "# 设置两个子图窗口，将Sigmoid的函数图像画在左边\n",
    "f = plt.subplot(121)\n",
    "# 画出函数曲线\n",
    "plt.plot(x, s, color='r')\n",
    "# 添加文字说明\n",
    "plt.text(-5., 0.9, r'$y=\\sigma(x)$', fontsize=13)\n",
    "# 设置坐标轴格式\n",
    "currentAxis = plt.gca()\n",
    "currentAxis.xaxis.set_label_text('x', fontsize=15)\n",
    "currentAxis.yaxis.set_label_text('y', fontsize=15)\n",
    "\n",
    "# 将ReLU的函数图像画在右边\n",
    "f = plt.subplot(122)\n",
    "# 画出函数曲线\n",
    "plt.plot(x, y, color='g')\n",
    "# 添加文字说明\n",
    "plt.text(-3.0, 9, r'$y=ReLU(x)$', fontsize=13)\n",
    "# 设置坐标轴格式\n",
    "currentAxis = plt.gca()\n",
    "currentAxis.xaxis.set_label_text('x', fontsize=15)\n",
    "currentAxis.yaxis.set_label_text('y', fontsize=15)\n",
    "\n",
    "plt.show()"
   ],
   "metadata": {
    "collapsed": false
   }
  },
  {
   "cell_type": "code",
   "execution_count": null,
   "outputs": [],
   "source": [
    "##  5.2 图片翻转和裁剪"
   ],
   "metadata": {
    "collapsed": false
   }
  }
 ],
 "metadata": {
  "kernelspec": {
   "display_name": "Python 3",
   "language": "python",
   "name": "python3"
  },
  "language_info": {
   "codemirror_mode": {
    "name": "ipython",
    "version": 2
   },
   "file_extension": ".py",
   "mimetype": "text/x-python",
   "name": "python",
   "nbconvert_exporter": "python",
   "pygments_lexer": "ipython2",
   "version": "2.7.6"
  }
 },
 "nbformat": 4,
 "nbformat_minor": 0
}
