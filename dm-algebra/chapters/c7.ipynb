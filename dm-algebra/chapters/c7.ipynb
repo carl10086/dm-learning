{
 "cells": [
  {
   "cell_type": "markdown",
   "source": [
    "## 1. 设计个小游戏\n",
    "\n",
    "### 1.1 游戏本身的建模\n",
    "\n",
    "- 游戏建模在 `2d` 空间\n",
    "- 8 个向量达标1个 8 边形 表示一个 **小行星**\n"
   ],
   "metadata": {
    "collapsed": false
   }
  },
  {
   "cell_type": "code",
   "execution_count": 51,
   "outputs": [],
   "source": [
    "import math\n",
    "import os\n",
    "import sys\n",
    "\n",
    "module_path = os.path.abspath(os.path.join('..'))\n",
    "if module_path not in sys.path:\n",
    "    sys.path.append(module_path)\n",
    "\n",
    "from random import randint, uniform\n",
    "\n",
    "import pygame\n",
    "\n",
    "from chapters.internal.tools import vectors\n",
    "from chapters.internal.tools.draw_2d import *\n",
    "\n",
    "\n",
    "class PolygonModel():\n",
    "    def __init__(self, points):\n",
    "        self.points = points\n",
    "        self.rotation_angle = 0  # 小行星移动的时候, 这个是旋转角度\n",
    "        self.x = 0\n",
    "        self.y = 0\n",
    "\n",
    "    def transformed_wrong(self):\n",
    "        \"\"\"\n",
    "        这里先平移 .  再旋转，就有问题.\n",
    "        因此 这里的旋转向量是按照 (0,0) 旋转的\n",
    "        \"\"\"\n",
    "\n",
    "        moved_v = [vectors.add((self.x, self.y), v) for v in points]\n",
    "        rotated = [\n",
    "            vectors.rotate2d(self.rotation_angle, v)\n",
    "            for v in moved_v]\n",
    "        return rotated\n",
    "\n",
    "    def transformed(self):\n",
    "        \"\"\"\n",
    "        这个方法由 x, y 属性转换 旋转的点 .\n",
    "\n",
    "        关键是\n",
    "        1. 先旋转\n",
    "        2. 再平移\n",
    "        \"\"\"\n",
    "        rotated = [\n",
    "            vectors.rotate2d(self.rotation_angle, v)\n",
    "            for v in self.points]\n",
    "        return [vectors.add((self.x, self.y), v) for v in rotated]\n",
    "\n",
    "\n",
    "class Ship(PolygonModel):\n",
    "    \"\"\"\n",
    "    飞船是一个三角形\n",
    "    \"\"\"\n",
    "\n",
    "    def __init__(self):\n",
    "        super().__init__(\n",
    "            [\n",
    "                (0.5, 0),\n",
    "                (-0.25, 0.25),\n",
    "                (-0.25, -0.25)\n",
    "            ],\n",
    "        )\n",
    "\n",
    "\n",
    "class Asteroid(PolygonModel):\n",
    "    def __init__(self):\n",
    "        # 小行星的边是随机的\n",
    "        sides = randint(5, 9)\n",
    "        vs = [vectors.to_cartesian(\n",
    "            (\n",
    "                # 随机长度是 0.5 -> 1.0\n",
    "                uniform(0.5, 1.0),\n",
    "                # 角度绕 360 度, 这样刚好能组成1个多边形\n",
    "                math.pi * 2 * (i / sides)\n",
    "            )\n",
    "        ) for i in range(0, sides)]\n",
    "\n",
    "        super().__init__(vs)\n",
    "\n",
    "\n"
   ],
   "metadata": {
    "collapsed": false
   }
  },
  {
   "cell_type": "markdown",
   "source": [
    "我们先测试一下画个 小行星 ."
   ],
   "metadata": {
    "collapsed": false
   }
  },
  {
   "cell_type": "code",
   "execution_count": 52,
   "outputs": [
    {
     "data": {
      "text/plain": "<Figure size 600x600 with 1 Axes>",
      "image/png": "[encoded data removed]"
     },
     "metadata": {},
     "output_type": "display_data"
    }
   ],
   "source": [
    "points = Asteroid().points\n",
    "draw2d(Polygon(*points))"
   ],
   "metadata": {
    "collapsed": false
   }
  },
  {
   "cell_type": "markdown",
   "source": [
    "再测试画个小飞船"
   ],
   "metadata": {
    "collapsed": false
   }
  },
  {
   "cell_type": "code",
   "execution_count": 53,
   "outputs": [
    {
     "data": {
      "text/plain": "<Figure size 600x600 with 1 Axes>",
      "image/png": "[encoded data removed]"
     },
     "metadata": {},
     "output_type": "display_data"
    }
   ],
   "source": [
    "points = Ship().points\n",
    "draw2d(Polygon(*points))"
   ],
   "metadata": {
    "collapsed": false
   }
  },
  {
   "cell_type": "markdown",
   "source": [
    "### 1.1.2 游戏的基本渲染\n",
    "\n",
    "游戏的初始化状态:\n",
    "\n",
    "1. 1个 `ship` : 被固定在中心位置\n",
    "2. 几个 `asteroid` : 随机分布在屏幕上"
   ],
   "metadata": {
    "collapsed": false
   }
  },
  {
   "cell_type": "code",
   "execution_count": 54,
   "outputs": [],
   "source": [
    "ship = Ship()\n",
    "\n",
    "# 1. 创建 一个 小行星列表\n",
    "asteroid_count = 10\n",
    "asteroids = [Asteroid() for _ in range(0, asteroid_count)]\n",
    "\n",
    "# 2. 把他们随机安排在各种位置上\n",
    "for ast in asteroids:\n",
    "    ast.x = randint(-9, 9)\n",
    "    ast.y = randint(-9, 9)"
   ],
   "metadata": {
    "collapsed": false
   }
  },
  {
   "cell_type": "markdown",
   "source": [
    "我们打算用  **PyGame** 内置的坐标系来 渲染. 他是一个 400*400 像素的屏幕 .\n",
    "\n",
    "- PyGame 的坐标系不仅仅更大, 而且被倒置了 .\n",
    "- 因此. 我们需要先写一个 函数在进行 坐标系的转换."
   ],
   "metadata": {
    "collapsed": false
   }
  },
  {
   "cell_type": "code",
   "execution_count": 55,
   "outputs": [],
   "source": [
    "from chapters.c7.asteroid import main\n",
    "\n",
    "# 这个是绿色 保护着你\n",
    "BLACK = (0, 0, 0)\n",
    "WHITE = (255, 255, 255)\n",
    "BLUE = (0, 0, 255)\n",
    "GREEN = (0, 255, 0)\n",
    "RED = (255, 0, 0)\n",
    "\n",
    "width, height = 400, 400\n",
    "\n",
    "\n",
    "def to_pixels(x, y):\n",
    "    \"\"\"\n",
    "    转换为 PyGames 的坐标系\n",
    "    \"\"\"\n",
    "    return width / 2 + width * x / 20, height / 2 - height * y - 20\n",
    "\n",
    "\n",
    "v1 = (-9, 9)  # 转换的结果是 (20.0, -3420.0) .怪怪的 .\n",
    "\n",
    "\n",
    "def draw_poly(screen, polygon_model, color=GREEN):\n",
    "    pixel_points = [to_pixels(x, y) for x, y in polygon_model.transformed()]\n",
    "    pygame.draw.aalines(screen, color, True, pixel_points, 10)\n",
    "\n",
    "\n",
    "def draw_segment(screen, v1, v2, color=RED):\n",
    "    pygame.draw.aaline(screen, color, to_pixels(*v1), to_pixels(*v2), 10)\n",
    "\n"
   ],
   "metadata": {
    "collapsed": false
   }
  },
  {
   "cell_type": "markdown",
   "source": [
    "由于 notebook 表示动画的能力有限, 我们放到 专门的代码中"
   ],
   "metadata": {
    "collapsed": false
   }
  },
  {
   "cell_type": "code",
   "execution_count": 56,
   "outputs": [],
   "source": [
    "# 打开下面的注释可以看见效果\n",
    "# main()"
   ],
   "metadata": {
    "collapsed": false
   }
  },
  {
   "cell_type": "markdown",
   "source": [
    "### 1.3 实现激光\n",
    "\n",
    "\n",
    "激光从 `ship` 的头部发出, 到达边界. 假设激光能 一直杀过去的话."
   ],
   "metadata": {
    "collapsed": false
   }
  },
  {
   "cell_type": "code",
   "execution_count": 57,
   "outputs": [
    {
     "name": "stdout",
     "output_type": "stream",
     "text": [
      "((0.5, 0.0), (28.784271247461902, 0.0))\n"
     ]
    }
   ],
   "source": [
    "from math import cos, sin\n",
    "\n",
    "\n",
    "class Ship(PolygonModel):\n",
    "    def __init__(self):\n",
    "        super().__init__([(0.5, 0), (-0.25, 0.25), (-0.25, -0.25)])\n",
    "\n",
    "    def laser_segment(self):\n",
    "        \"\"\"\n",
    "        返回2个向量 代表从 ship 的x,y 出发按照角度一直到边界\n",
    "        \"\"\"\n",
    "        dist = 20. * sqrt(2)  # 长度.\n",
    "        x, y = self.transformed()[0]\n",
    "        return (x, y), (x + dist * cos(self.rotation_angle), y + dist * sin(self.rotation_angle))\n",
    "\n",
    "\n",
    "ship = Ship()\n",
    "print(ship.laser_segment())"
   ],
   "metadata": {
    "collapsed": false
   }
  },
  {
   "cell_type": "markdown",
   "source": [
    "### 1.4 测试\n",
    "\n",
    "\n",
    "**exec1** : 我们来测试旋转平移 `ship` 的测试 ."
   ],
   "metadata": {
    "collapsed": false
   }
  },
  {
   "cell_type": "code",
   "execution_count": 58,
   "outputs": [
    {
     "data": {
      "text/plain": "<Figure size 600x600 with 1 Axes>",
      "image/png": "[encoded data removed]"
     },
     "metadata": {},
     "output_type": "display_data"
    }
   ],
   "source": [
    "ship = Ship()\n",
    "\n",
    "ship.x = 1.0\n",
    "ship.y = 1.0\n",
    "\n",
    "\n",
    "def ship_2_polygon(s, color=red):\n",
    "    moved_points = [(p[0] + s.x, p[1] + s.y) for p in s.points]\n",
    "    return Polygon(*moved_points, color=color)\n",
    "\n",
    "\n",
    "ship.rotation_angle = math.pi / 4\n",
    "\n",
    "draw2d(\n",
    "    Polygon(*ship.points, color=red),\n",
    "    ship_2_polygon(ship, color=green),\n",
    "    Polygon(*ship.transformed(), color=blue),\n",
    "    Polygon(*ship.transformed_wrong(), color=black),\n",
    ")"
   ],
   "metadata": {
    "collapsed": false
   }
  },
  {
   "cell_type": "markdown",
   "source": [
    "- 红色的是原始的\n",
    "- 绿色的是平移后的\n",
    "- 蓝色的是正确的\n",
    "- 黑色是因为先 平移, 再旋转, 所以错了. 旋转是以原点为中心 旋转的. 所以一定要先 **平移**"
   ],
   "metadata": {
    "collapsed": false
   }
  },
  {
   "cell_type": "markdown",
   "source": [
    "# 2. 直线的交点计算"
   ],
   "metadata": {
    "collapsed": false
   }
  }
 ],
 "metadata": {
  "kernelspec": {
   "display_name": "Python 3",
   "language": "python",
   "name": "python3"
  },
  "language_info": {
   "codemirror_mode": {
    "name": "ipython",
    "version": 2
   },
   "file_extension": ".py",
   "mimetype": "text/x-python",
   "name": "python",
   "nbconvert_exporter": "python",
   "pygments_lexer": "ipython2",
   "version": "2.7.6"
  }
 },
 "nbformat": 4,
 "nbformat_minor": 0
}
