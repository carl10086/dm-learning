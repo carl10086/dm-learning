{
 "cells": [
  {
   "cell_type": "markdown",
   "source": [
    "## 1. 设计个小游戏\n",
    "\n",
    "### 1.1 游戏本身的建模\n",
    "\n",
    "- 游戏建模在 `2d` 空间\n",
    "- 8 个向量达标1个 8 边形 表示一个 **小行星**\n"
   ],
   "metadata": {
    "collapsed": false
   }
  },
  {
   "cell_type": "code",
   "execution_count": 226,
   "outputs": [],
   "source": [
    "import math\n",
    "import os\n",
    "import sys\n",
    "\n",
    "module_path = os.path.abspath(os.path.join('..'))\n",
    "if module_path not in sys.path:\n",
    "    sys.path.append(module_path)\n",
    "\n",
    "from random import randint, uniform\n",
    "\n",
    "import pygame\n",
    "\n",
    "from chapters.internal.tools import vectors\n",
    "from chapters.internal.tools.draw_2d import *\n",
    "\n",
    "\n",
    "class PolygonModel():\n",
    "    def __init__(self, points):\n",
    "        self.points = points\n",
    "        self.rotation_angle = 0  # 小行星移动的时候, 这个是旋转角度\n",
    "        self.x = 0\n",
    "        self.y = 0\n",
    "\n",
    "    def transformed_wrong(self):\n",
    "        \"\"\"\n",
    "        这里先平移 .  再旋转，就有问题.\n",
    "        因此 这里的旋转向量是按照 (0,0) 旋转的\n",
    "        \"\"\"\n",
    "\n",
    "        moved_v = [vectors.add((self.x, self.y), v) for v in points]\n",
    "        rotated = [\n",
    "            vectors.rotate2d(self.rotation_angle, v)\n",
    "            for v in moved_v]\n",
    "        return rotated\n",
    "\n",
    "    def transformed(self):\n",
    "        \"\"\"\n",
    "        这个方法由 x, y 属性转换 旋转的点 .\n",
    "\n",
    "        关键是\n",
    "        1. 先旋转\n",
    "        2. 再平移\n",
    "        \"\"\"\n",
    "        rotated = [\n",
    "            vectors.rotate2d(self.rotation_angle, v)\n",
    "            for v in self.points]\n",
    "        return [vectors.add((self.x, self.y), v) for v in rotated]\n",
    "\n",
    "\n",
    "class Ship(PolygonModel):\n",
    "    \"\"\"\n",
    "    飞船是一个三角形\n",
    "    \"\"\"\n",
    "\n",
    "    def __init__(self):\n",
    "        super().__init__(\n",
    "            [\n",
    "                (0.5, 0),\n",
    "                (-0.25, 0.25),\n",
    "                (-0.25, -0.25)\n",
    "            ],\n",
    "        )\n",
    "\n",
    "\n",
    "class Asteroid(PolygonModel):\n",
    "    def __init__(self):\n",
    "        # 小行星的边是随机的\n",
    "        sides = randint(5, 9)\n",
    "        vs = [vectors.to_cartesian(\n",
    "            (\n",
    "                # 随机长度是 0.5 -> 1.0\n",
    "                uniform(0.5, 1.0),\n",
    "                # 角度绕 360 度, 这样刚好能组成1个多边形\n",
    "                math.pi * 2 * (i / sides)\n",
    "            )\n",
    "        ) for i in range(0, sides)]\n",
    "\n",
    "        super().__init__(vs)\n",
    "\n",
    "\n"
   ],
   "metadata": {
    "collapsed": false
   }
  },
  {
   "cell_type": "markdown",
   "source": [
    "我们先测试一下画个 小行星 ."
   ],
   "metadata": {
    "collapsed": false
   }
  },
  {
   "cell_type": "code",
   "execution_count": 227,
   "outputs": [
    {
     "data": {
      "text/plain": "<Figure size 600x600 with 1 Axes>",
      "image/png": "[encoded data removed]"
     },
     "metadata": {},
     "output_type": "display_data"
    }
   ],
   "source": [
    "points = Asteroid().points\n",
    "draw2d(Polygon(*points))"
   ],
   "metadata": {
    "collapsed": false
   }
  },
  {
   "cell_type": "markdown",
   "source": [
    "再测试画个小飞船"
   ],
   "metadata": {
    "collapsed": false
   }
  },
  {
   "cell_type": "code",
   "execution_count": 228,
   "outputs": [
    {
     "data": {
      "text/plain": "<Figure size 600x600 with 1 Axes>",
      "image/png": "[encoded data removed]"
     },
     "metadata": {},
     "output_type": "display_data"
    }
   ],
   "source": [
    "points = Ship().points\n",
    "draw2d(Polygon(*points))"
   ],
   "metadata": {
    "collapsed": false
   }
  },
  {
   "cell_type": "markdown",
   "source": [
    "### 1.1.2 游戏的基本渲染\n",
    "\n",
    "游戏的初始化状态:\n",
    "\n",
    "1. 1个 `ship` : 被固定在中心位置\n",
    "2. 几个 `asteroid` : 随机分布在屏幕上"
   ],
   "metadata": {
    "collapsed": false
   }
  },
  {
   "cell_type": "code",
   "execution_count": 229,
   "outputs": [],
   "source": [
    "ship = Ship()\n",
    "\n",
    "# 1. 创建 一个 小行星列表\n",
    "asteroid_count = 10\n",
    "asteroids = [Asteroid() for _ in range(0, asteroid_count)]\n",
    "\n",
    "# 2. 把他们随机安排在各种位置上\n",
    "for ast in asteroids:\n",
    "    ast.x = randint(-9, 9)\n",
    "    ast.y = randint(-9, 9)"
   ],
   "metadata": {
    "collapsed": false
   }
  },
  {
   "cell_type": "markdown",
   "source": [
    "我们打算用  **PyGame** 内置的坐标系来 渲染. 他是一个 400*400 像素的屏幕 .\n",
    "\n",
    "- PyGame 的坐标系不仅仅更大, 而且被倒置了 .\n",
    "- 因此. 我们需要先写一个 函数在进行 坐标系的转换."
   ],
   "metadata": {
    "collapsed": false
   }
  },
  {
   "cell_type": "code",
   "execution_count": 230,
   "outputs": [],
   "source": [
    "from chapters.c7.asteroid import main\n",
    "\n",
    "# 这个是绿色 保护着你\n",
    "BLACK = (0, 0, 0)\n",
    "WHITE = (255, 255, 255)\n",
    "BLUE = (0, 0, 255)\n",
    "GREEN = (0, 255, 0)\n",
    "RED = (255, 0, 0)\n",
    "\n",
    "width, height = 400, 400\n",
    "\n",
    "\n",
    "def to_pixels(x, y):\n",
    "    \"\"\"\n",
    "    转换为 PyGames 的坐标系\n",
    "    \"\"\"\n",
    "    return width / 2 + width * x / 20, height / 2 - height * y - 20\n",
    "\n",
    "\n",
    "v1 = (-9, 9)  # 转换的结果是 (20.0, -3420.0) .怪怪的 .\n",
    "\n",
    "\n",
    "def draw_poly(screen, polygon_model, color=GREEN):\n",
    "    pixel_points = [to_pixels(x, y) for x, y in polygon_model.transformed()]\n",
    "    pygame.draw.aalines(screen, color, True, pixel_points, 10)\n",
    "\n",
    "\n",
    "def draw_segment(screen, v1, v2, color=RED):\n",
    "    pygame.draw.aaline(screen, color, to_pixels(*v1), to_pixels(*v2), 10)\n",
    "\n"
   ],
   "metadata": {
    "collapsed": false
   }
  },
  {
   "cell_type": "markdown",
   "source": [
    "由于 notebook 表示动画的能力有限, 我们放到 专门的代码中"
   ],
   "metadata": {
    "collapsed": false
   }
  },
  {
   "cell_type": "code",
   "execution_count": 231,
   "outputs": [],
   "source": [
    "# 打开下面的注释可以看见效果\n",
    "# main()"
   ],
   "metadata": {
    "collapsed": false
   }
  },
  {
   "cell_type": "markdown",
   "source": [
    "### 1.3 实现激光\n",
    "\n",
    "\n",
    "激光从 `ship` 的头部发出, 到达边界. 假设激光能 一直杀过去的话."
   ],
   "metadata": {
    "collapsed": false
   }
  },
  {
   "cell_type": "code",
   "execution_count": 232,
   "outputs": [
    {
     "name": "stdout",
     "output_type": "stream",
     "text": [
      "((0.5, 0.0), (28.784271247461902, 0.0))\n"
     ]
    }
   ],
   "source": [
    "from math import cos, sin\n",
    "\n",
    "\n",
    "class Ship(PolygonModel):\n",
    "    def __init__(self):\n",
    "        super().__init__([(0.5, 0), (-0.25, 0.25), (-0.25, -0.25)])\n",
    "\n",
    "    def laser_segment(self):\n",
    "        \"\"\"\n",
    "        返回2个向量 代表从 ship 的x,y 出发按照角度一直到边界\n",
    "        \"\"\"\n",
    "        dist = 20. * sqrt(2)  # 长度.\n",
    "        x, y = self.transformed()[0]\n",
    "        return (x, y), (x + dist * cos(self.rotation_angle), y + dist * sin(self.rotation_angle))\n",
    "\n",
    "\n",
    "ship = Ship()\n",
    "print(ship.laser_segment())"
   ],
   "metadata": {
    "collapsed": false
   }
  },
  {
   "cell_type": "markdown",
   "source": [
    "### 1.4 测试\n",
    "\n",
    "\n",
    "**exec1** : 我们来测试旋转平移 `ship` 的测试 ."
   ],
   "metadata": {
    "collapsed": false
   }
  },
  {
   "cell_type": "code",
   "execution_count": 233,
   "outputs": [
    {
     "data": {
      "text/plain": "<Figure size 600x600 with 1 Axes>",
      "image/png": "[encoded data removed]"
     },
     "metadata": {},
     "output_type": "display_data"
    }
   ],
   "source": [
    "ship = Ship()\n",
    "\n",
    "ship.x = 1.0\n",
    "ship.y = 1.0\n",
    "\n",
    "\n",
    "def ship_2_polygon(s, color=red):\n",
    "    moved_points = [(p[0] + s.x, p[1] + s.y) for p in s.points]\n",
    "    return Polygon(*moved_points, color=color)\n",
    "\n",
    "\n",
    "ship.rotation_angle = math.pi / 4\n",
    "\n",
    "draw2d(\n",
    "    Polygon(*ship.points, color=red),\n",
    "    ship_2_polygon(ship, color=green),\n",
    "    Polygon(*ship.transformed(), color=blue),\n",
    "    Polygon(*ship.transformed_wrong(), color=black),\n",
    ")"
   ],
   "metadata": {
    "collapsed": false
   }
  },
  {
   "cell_type": "markdown",
   "source": [
    "- 红色的是原始的\n",
    "- 绿色的是平移后的\n",
    "- 蓝色的是正确的\n",
    "- 黑色是因为先 平移, 再旋转, 所以错了. 旋转是以原点为中心 旋转的. 所以一定要先 **平移**"
   ],
   "metadata": {
    "collapsed": false
   }
  },
  {
   "cell_type": "markdown",
   "source": [
    "## 2. 直线的交点计算\n",
    "\n",
    "### 2.1 为直线选择正确的公式\n",
    "\n",
    "通用的直线公式 .\n",
    "\n",
    "$$\n",
    "给定 \\vec{u} 和 \\vec{v} . 变量是 t\n",
    "\n",
    "则通用的公式是:\n",
    "\n",
    "\\vec{u} + \\vec{v} \\times t\n",
    "\n",
    "下面用代码表示:\n",
    "\n",
    "\\vec{u} = (2, 3)\n",
    "\\vec{v} = (2, -1)\n",
    "$$\n",
    "\n",
    "假设对于任何的 t.\n",
    "\n",
    "$$\n",
    "x = 2 \\times t + 2\n",
    "$$\n",
    "\n",
    "$$\n",
    "y = -1 \\times t + 3\n",
    "$$\n",
    "\n",
    "因此 .\n",
    "\n",
    "$$\n",
    "2y + x = (-2t + 6) + 2t + 2 = 8\n",
    "$$\n",
    "\n",
    "因此\n",
    "\n",
    "$$\n",
    "y = (8 - x) \\div 2\n",
    "$$\n"
   ],
   "metadata": {
    "collapsed": false
   }
  },
  {
   "cell_type": "markdown",
   "source": [
    "我们的表达方式 和 函数不同\n",
    "\n",
    "$$\n",
    "\\vec{r} t = \\vec{u} + t \\cdot \\vec{v}\n",
    "$$\n",
    "\n",
    "特别的, 任何的直接可以用如下的 函数表示:\n",
    "\n",
    "$$\n",
    "ax + by = c\n",
    "$$"
   ],
   "metadata": {
    "collapsed": false
   }
  },
  {
   "cell_type": "markdown",
   "source": [
    "下面的目标是通过 (x1, y1) 和 (x2, y2) . 2点确定1条直线 ."
   ],
   "metadata": {
    "collapsed": false
   }
  },
  {
   "cell_type": "markdown",
   "source": [
    "### 2.2 numpy 提供了求解线性方程组的基本库\n",
    "\n",
    "我们知道 行求秩法是可以做的 ."
   ],
   "metadata": {
    "collapsed": false
   }
  },
  {
   "cell_type": "code",
   "execution_count": 234,
   "outputs": [
    {
     "name": "stdout",
     "output_type": "stream",
     "text": [
      "[2.66666667 2.66666667]\n"
     ]
    }
   ],
   "source": [
    "import numpy as np\n",
    "\n",
    "# m1 是1 个用 tuple 表示的矩阵\n",
    "m1 = (\n",
    "    (1, -1),\n",
    "    (1, 2)\n",
    ")\n",
    "matrix = np.array(\n",
    "    m1\n",
    ")\n",
    "\n",
    "# 输出是一个数组 .\n",
    "output = np.array(\n",
    "    (0, 8)\n",
    ")\n",
    "\n",
    "solve = np.linalg.solve(matrix, output)  # 线性方程组求解 .\n",
    "print(solve)"
   ],
   "metadata": {
    "collapsed": false
   }
  },
  {
   "cell_type": "markdown",
   "source": [
    "使用库的时候可能有 2个问题:\n",
    "\n",
    "1. 方程组可能无解 . 2条平行的线永远不可能有交点 ;\n",
    "2. 可能无解. 同1条直线上的 可能有不同的 函数表达形式 ;\n",
    "    - 这种矩阵称为 奇异矩阵 ;\n",
    "\n",
    "我们的目的, 也就是把 2个向量转换为 `numpy` 能计算的形式 .\n",
    "\n",
    "假设我们知道有如下的2个向量 .\n",
    "\n",
    "$$\n",
    "\\vec{v_1} 和 \\vec{v_2}\n",
    "$$\n",
    "\n",
    "$$\n",
    "\\vec{v_1} = (x_1, y_1)\n",
    ";\n",
    "\\vec{v_2} = (x_2, y_2)\n",
    "$$\n",
    "\n",
    "\n"
   ],
   "metadata": {
    "collapsed": false
   }
  },
  {
   "cell_type": "markdown",
   "source": [
    "利用代数. 我们开始证明 . 搞出目标格式\n",
    "\n",
    "$$\n",
    "ax + by = c\n",
    "$$"
   ],
   "metadata": {
    "collapsed": false
   }
  },
  {
   "cell_type": "markdown",
   "source": [
    "对任意的 x, y, 满足如下条件\n",
    "\n",
    "$$\n",
    "(y - y_1) / (x - x_1) = (y - y_2) / (x - x_2)\n",
    "$$"
   ],
   "metadata": {
    "collapsed": false
   }
  },
  {
   "cell_type": "markdown",
   "source": [
    "$$\n",
    "(y-y_1)(x-x_2) = (y-y_2)(x-x_1)\n",
    "$$"
   ],
   "metadata": {
    "collapsed": false
   }
  },
  {
   "cell_type": "markdown",
   "source": [
    "$$\n",
    "yx - yx_2 - y_1x + y_1x_2 = yx -yx_1 -y_2x +y_2x_1\n",
    "$$"
   ],
   "metadata": {
    "collapsed": false
   }
  },
  {
   "cell_type": "markdown",
   "source": [
    "$$\n",
    "(y_2-y_1)x + (x_1-x_2)y = y_2x_1 - y_1x_2\n",
    "$$"
   ],
   "metadata": {
    "collapsed": false
   }
  },
  {
   "cell_type": "markdown",
   "source": [
    "根据上面的推论 , 我们很容易写出来代码 ."
   ],
   "metadata": {
    "collapsed": false
   }
  },
  {
   "cell_type": "code",
   "execution_count": 235,
   "outputs": [],
   "source": [
    "def standard_form(v1, v2):\n",
    "    \"\"\"\n",
    "    1个函数表达的形式是 ax + by = c .\n",
    "    我们通过代数的方式计算出来 .\n",
    "    而这个 算出来的值 刚好能够被 numpy 帮助我们计算 .\n",
    "    \"\"\"\n",
    "    x1, y1 = v1\n",
    "    x2, y2 = v2\n",
    "    a = y2 - y1\n",
    "    b = x1 - x2\n",
    "    c = x1 * y2 - y1 * x2\n",
    "    return a, b, c"
   ],
   "metadata": {
    "collapsed": false
   }
  },
  {
   "cell_type": "markdown",
   "source": [
    "再利用下 `numpy` 的矩阵运算 就很容易知道直线交点的情况了.\n",
    "\n",
    "再搞下 简单的工程, 判断下 交点是否在2个 线段中. 即可 ."
   ],
   "metadata": {
    "collapsed": false
   }
  },
  {
   "cell_type": "code",
   "execution_count": 236,
   "outputs": [],
   "source": [
    "from chapters.internal.tools.vectors import distance\n",
    "\n",
    "\n",
    "def intersection(u1, u2, v1, v2):\n",
    "    \"\"\"\n",
    "    u1, u2 决定了1条直线\n",
    "    v1 ,v2 决定了另外1条\n",
    "    通过矩阵运算\n",
    "    \"\"\"\n",
    "    a1, b1, c1 = standard_form(u1, u2)\n",
    "    a2, b2, c2 = standard_form(v1, v2)\n",
    "    m = np.array(((a1, b1), (a2, b2)))\n",
    "    c = np.array((c1, c2))\n",
    "    return np.linalg.solve(m, c)\n",
    "\n",
    "\n",
    "def do_segments_intersect(s1, s2):\n",
    "    u1, u2 = s1\n",
    "    v1, v2 = s2\n",
    "    d1, d2 = distance(*s1), distance(*s2)\n",
    "    try:\n",
    "        x, y = intersection(u1, u2, v1, v2)\n",
    "        # 判断是否在 交点是否在 线段内部\n",
    "        return (distance(u1, (x, y)) <= d1 and\n",
    "                distance(u2, (x, y)) <= d1 and\n",
    "                distance(v1, (x, y)) <= d2 and\n",
    "                distance(v2, (x, y)) <= d2)\n",
    "    except np.linalg.linalg.LinAlgError:\n",
    "        return False"
   ],
   "metadata": {
    "collapsed": false
   }
  },
  {
   "cell_type": "markdown",
   "source": [
    "## 2.3 超平面\n",
    "\n",
    "三维的 可以用上面的 进行扩展 .  但是三维以上的就无法用几何表达了 .\n",
    "\n",
    "我们称 三维之上为 *超平面* , 例如 4维\n",
    "\n",
    "$$\n",
    "aw + bx + cy + dz = e\n",
    "$$\n",
    "\n",
    "解集 (w,x,y,z) 是一个四维空间中的 超平面 .\n",
    "注意, 没有约束 保证解集是 封闭的 所以要注意 不是 一个向量子空间 .\n",
    "\n",
    "但是不管 维度 n 是多少, 线性方程组的形式都一样的, 如下:\n",
    "\n",
    "$$\n",
    "\\sum_{i=1}^{n}a_ix_i = b\n",
    "$$"
   ],
   "metadata": {
    "collapsed": false
   }
  },
  {
   "cell_type": "markdown",
   "source": [
    "要在 n维上表示 m 个方程组. 则如下:\n",
    "\n",
    "$$\n",
    "\\begin{split}\n",
    "a_1_1x_1 + a_1_2x_2 + ... + a_1_nx_n = b_1\\\\\n",
    "...\\\\\n",
    "a_m_1x_1 + a_m_2x_2 + ... + a_m_nx_n = b_m\n",
    "\n",
    "\n",
    "\\end{split}\n",
    "$$\n",
    "\n",
    "刚好是1个 m * n 的矩阵 ."
   ],
   "metadata": {
    "collapsed": false
   }
  },
  {
   "cell_type": "markdown",
   "source": [
    "和二维空间一样, 上面方程组的解可能是:\n",
    "\n",
    "- 无解\n",
    "- 唯一解\n",
    "- 无限解\n",
    "\n",
    "从上面的规律中 .\n",
    "\n",
    "- 二维空间 中至少要 2 条线确定唯一的点\n",
    "- 三维空间中  至少要 3个平面才能 确定唯一的点\n",
    "\n",
    "同样的, n维空我们可以猜测至少要 要 n个 .\n",
    "\n",
    "我们用 四维空间作为例子 (x1,x2,x3,x4).\n",
    "\n",
    "假设第1个方程是:\n",
    "\n",
    "- x4 = 0 : 他的解空间是任何的 (x1, x2, x3, 0) 这个是1个三维空间\n",
    "\n",
    "继续, 假设第2个方程是:\n",
    "\n",
    "- x2 = 0 : 解空间就称了 (x1, 0,x3, 0) . 这是二维了.\n",
    "\n",
    ".. 同样继续下去 .最后就是 (0,0,0,0) 唯一解. 每个方程都能把 解集空间 降低最多1维 .\n",
    "\n",
    "\n",
    "但是如果第3个方程是 : x1 + x2 = 0 这就没有了意义, 解集空间不会降低 .\n",
    "\n",
    "我们扩展到一般情况 .\n",
    "\n",
    "- 在 n维空间中 m个线性方程组 能得到的最低维度的解空间是 `n-m` ;\n"
   ],
   "metadata": {
    "collapsed": false
   }
  },
  {
   "cell_type": "markdown",
   "source": [
    "### 2.4 execs\n",
    "\n",
    "**exec1:** 通过 (5, 4) 并且垂直于 (-3, 3) 的直线方程是什么 ?\n",
    "\n",
    "对任意的 (x, y)\n",
    "$$\n",
    "(x - 5)(-3) + (y - 4)(3) = 15 -3x + 3y - 12 = 0\n",
    "$$\n",
    "\n",
    "so:\n",
    "\n",
    "$$\n",
    "x -y = 1\n",
    "$$"
   ],
   "metadata": {
    "collapsed": false
   }
  },
  {
   "cell_type": "markdown",
   "source": [
    "**exec2:** 思考四维中如下的2个线性方程组\n",
    "\n",
    "$$\n",
    "x_1 + 2x_2 + 2x_3 + x_4 = 0\n",
    "$$\n",
    "和\n",
    "$$\n",
    "x_1 - x_4 = 0\n",
    "$$\n",
    "\n",
    "用代数法解释, 为什么方程组的解会形成 4维的向量子空间 ?\n",
    "\n",
    "那就是要证明 **解空间** 是封闭的了 ."
   ],
   "metadata": {
    "collapsed": false
   }
  },
  {
   "cell_type": "markdown",
   "source": [
    "假设任意的 2个解 : (a1, a2, a3, a4)和 (b1, b2 , b3, b4) 和 任意的标量 s\n",
    "\n",
    "\n",
    "$$\n",
    "(a1 + b1) + 2(a2 + b2) + 2(a3 + b3) + (a4 + b4) = 0\n",
    "$$\n",
    "\n",
    "和\n",
    "$$\n",
    "(a1 + b1) - (a4 -b4) = 0\n",
    "$$\n",
    "\n",
    "证明了 `add` 的封闭性.\n",
    "\n",
    "同样可以证明对于 `scalar` 计算的封闭性"
   ],
   "metadata": {
    "collapsed": false
   }
  },
  {
   "cell_type": "markdown",
   "source": [
    "**exec3** : 通过 (1,1,1) 而且垂直于 (1,1,1) 平面的标准方程是什么 ?\n",
    "\n",
    "简单 pass"
   ],
   "metadata": {
    "collapsed": false
   }
  },
  {
   "cell_type": "markdown",
   "source": [
    "**exec4** : 1个 python 函数. 输入是3个三维点, 返回标准方程\n",
    "\n",
    "$$\n",
    "ax + by = cz = d\n",
    "$$"
   ],
   "metadata": {
    "collapsed": false
   }
  },
  {
   "cell_type": "markdown",
   "source": [
    "我们可以用之前的推理进行快速计算 .\n",
    "\n",
    "我们知道任意的 3个向量 p1, p2, p3 (从原点出发). 那么 . 有推论.\n",
    "\n",
    "对任意点 p(x, y, z) 有:\n",
    "\n",
    "$$\n",
    "(p - p1) \\cdot ((p2 - p1) \\times (p3 - p1)) = 0\n",
    "$$\n",
    "\n",
    "其实就是求 法向量. 其次就是注意边界情况, 有可能3点如果不向量无关, 就不能代表平面 .\n",
    "\n"
   ],
   "metadata": {
    "collapsed": false
   }
  },
  {
   "cell_type": "code",
   "execution_count": 237,
   "outputs": [
    {
     "data": {
      "text/plain": "(3, 3, 3, 9)"
     },
     "execution_count": 237,
     "metadata": {},
     "output_type": "execute_result"
    }
   ],
   "source": [
    "from chapters.internal.tools.vectors import *\n",
    "\n",
    "\n",
    "def plane_equation(p1, p2, p3):\n",
    "    parallel_1 = subtract(p2, p1)\n",
    "    parallel_2 = subtract(p3, p1)\n",
    "\n",
    "    # 1. 计算到法向量\n",
    "    a, b, c = cross(parallel_1, parallel_2)\n",
    "\n",
    "    # 2. 目标平面的任何一点 p-p1 和 法向量的点积 =0 .\n",
    "    d = dot((a, b, c), p1)\n",
    "\n",
    "    return a, b, c, d\n",
    "\n",
    "\n",
    "plane_equation(\n",
    "    (1, 1, 1),\n",
    "    (3, 0, 0),\n",
    "    (0, 3, 0)\n",
    ")"
   ],
   "metadata": {
    "collapsed": false
   }
  },
  {
   "cell_type": "markdown",
   "source": [
    "**exec5**: 画出 3个 两两不平行 但是没有交点的平面"
   ],
   "metadata": {
    "collapsed": false
   }
  },
  {
   "cell_type": "markdown",
   "source": [
    "$$\n",
    "z + y = 0\n",
    "$$\n",
    "$$\n",
    "z - y = 0\n",
    "$$\n",
    "$$\n",
    "z = 3\n",
    "$$\n",
    "\n",
    "虽然 平面不平行 但是 他们的交线都是平行的"
   ],
   "metadata": {
    "collapsed": false
   }
  },
  {
   "cell_type": "markdown",
   "source": [
    "**exec6** 对于 任何 的 n 都有1个单位矩阵 用来做 恒等映射.\n",
    "\n",
    "BA= I . 则矩阵 B 是 A 的逆矩阵 .\n",
    "\n",
    "可以用 `numpy.linalg.inv(matrix)` 来计算矩阵的逆 .\n",
    "\n",
    "还可以用内置的矩阵乘法. `numpy.matmul` 这样就更简单 ."
   ],
   "metadata": {
    "collapsed": false
   }
  },
  {
   "cell_type": "markdown",
   "source": [],
   "metadata": {
    "collapsed": false
   }
  },
  {
   "cell_type": "markdown",
   "source": [
    "## 3. 通过解线性方程组 来改变向量的基 .\n",
    "\n",
    "先看1个二维中的例子 .\n",
    "\n",
    "标准基如下:\n",
    "$$\\vec{e_1} = (1,0)$$ 和 $$\\vec{e_2} = (0,1)$$"
   ],
   "metadata": {
    "collapsed": false
   }
  },
  {
   "cell_type": "markdown",
   "source": [
    "而向量 :\n",
    "\n",
    "$$\n",
    "(4, 2) = 4\\vec{e1} + 2\\vec{e2}\n",
    "$$"
   ],
   "metadata": {
    "collapsed": false
   }
  },
  {
   "cell_type": "markdown",
   "source": [],
   "metadata": {
    "collapsed": false
   }
  },
  {
   "cell_type": "markdown",
   "source": [
    "同样， 标准基也可以是  $$\\vec{u_1} = (1,1)$$ 和 $$\\vec{v_1} = (-1,1)$$\n",
    "\n",
    "通过简单的代数可以计算得到:\n",
    "\n",
    "$$\n",
    "(4,2) = 3\\vec{u_1} + (-1)\\vec{v_1}\n",
    "$$\n",
    "\n",
    "这是 个计算问题, 实际上也就是 上面 求线性方程组的应用之一 .\n"
   ],
   "metadata": {
    "collapsed": false
   }
  },
  {
   "cell_type": "markdown",
   "source": [
    "### 3.1 在三维空间中求解\n",
    "\n",
    "通过上面的推理 .我们可以很容易求出新的基 下的向量.\n",
    "\n",
    "例如 向量 (1, 3, -7) 三维空间中新的基是:\n",
    "\n",
    "- (1, -1, 0)\n",
    "- (0, -1, -1)\n",
    "- (1, 0, 2)"
   ],
   "metadata": {
    "collapsed": false
   }
  },
  {
   "cell_type": "code",
   "execution_count": 238,
   "outputs": [
    {
     "name": "stdout",
     "output_type": "stream",
     "text": [
      "[ 3.  2. -5.]\n"
     ]
    }
   ],
   "source": [
    "import numpy as np\n",
    "\n",
    "w = np.array(\n",
    "    (1, 3, -7)\n",
    ")\n",
    "\n",
    "a = np.array(\n",
    "    (\n",
    "        (1, -1, 0),\n",
    "        (0, -1, -1),\n",
    "        (1, 0, 2)\n",
    "    )\n",
    ")\n",
    "\n",
    "print(np.linalg.solve(a, w))\n"
   ],
   "metadata": {
    "collapsed": false
   }
  },
  {
   "cell_type": "markdown",
   "source": [
    "上面的思路对 更高的难度也是通用的 , 通过求解相应的线性方程组, 我们把1个向量搞成 其他的向量的组合.\n",
    "\n",
    "当然 需要的前提是 方程组是有解的. 如果 新的向量组合不 能组成1个基向量集. 等于无解 ."
   ],
   "metadata": {
    "collapsed": false
   }
  }
 ],
 "metadata": {
  "kernelspec": {
   "display_name": "Python 3",
   "language": "python",
   "name": "python3"
  },
  "language_info": {
   "codemirror_mode": {
    "name": "ipython",
    "version": 2
   },
   "file_extension": ".py",
   "mimetype": "text/x-python",
   "name": "python",
   "nbconvert_exporter": "python",
   "pygments_lexer": "ipython2",
   "version": "2.7.6"
  }
 },
 "nbformat": 4,
 "nbformat_minor": 0
}
