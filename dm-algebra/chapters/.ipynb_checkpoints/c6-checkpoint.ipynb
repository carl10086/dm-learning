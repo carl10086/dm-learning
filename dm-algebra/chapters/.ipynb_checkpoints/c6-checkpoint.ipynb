{
 "cells": [
  {
   "cell_type": "code",
   "execution_count": 48,
   "metadata": {
    "collapsed": true
   },
   "outputs": [
    {
     "name": "stdout",
     "output_type": "stream",
     "text": [
      "(-4.0,2.0)\n"
     ]
    }
   ],
   "source": [
    "import math\n",
    "import os\n",
    "import sys\n",
    "\n",
    "module_path = os.path.abspath(os.path.join('..'))\n",
    "if module_path not in sys.path:\n",
    "    sys.path.append(module_path)\n",
    "from abc import ABCMeta, abstractmethod, abstractproperty\n",
    "\n",
    "from chapters.internal.tools.transform import add\n",
    "\n",
    "\n",
    "class Vector(metaclass=ABCMeta):\n",
    "\n",
    "    @classmethod\n",
    "    @property\n",
    "    @abstractmethod\n",
    "    def zero(cls):\n",
    "        pass\n",
    "\n",
    "    @abstractmethod\n",
    "    def scale(self, scalar: float):\n",
    "        pass\n",
    "\n",
    "    @abstractmethod\n",
    "    def add(self, other):\n",
    "        pass\n",
    "\n",
    "    def sub(self, other):\n",
    "        return self.add(-1.0 * other)\n",
    "\n",
    "    def __mul__(self, other: float):\n",
    "        return self.scale(other)\n",
    "\n",
    "    def __rmul__(self, other):\n",
    "        return self.scale(other)\n",
    "\n",
    "    def __add__(self, other):\n",
    "        return self.add(other)\n",
    "\n",
    "    def __sub__(self, other):\n",
    "        return self.sub(other)\n",
    "\n",
    "    def __neg__(self):\n",
    "        return self.scale(-1)\n",
    "\n",
    "    @abstractmethod\n",
    "    def approximate_eq(self, o):\n",
    "        pass\n",
    "\n",
    "\n",
    "class CoordinateVector(Vector):\n",
    "    @property\n",
    "    @abstractmethod\n",
    "    def dimension(self):\n",
    "        pass\n",
    "\n",
    "    def __init__(self, *coordinates) -> None:\n",
    "        self.coordinates = tuple(x for x in coordinates)\n",
    "\n",
    "    def add(self, other):\n",
    "        # call own constructor . with *\n",
    "        return self.__class__(*add(self.coordinates, other.coordinates))\n",
    "\n",
    "    def scale(self, scalar: float):\n",
    "        return self.__class__(*[x * scalar for x in self.coordinates])\n",
    "\n",
    "    def __repr__(self):\n",
    "        return \"{}{}\".format(self.__class__.__qualname__, self.coordinates)\n",
    "\n",
    "    def __eq__(self, o) -> bool:\n",
    "        if not self.__class__ == o.__class__:\n",
    "            return False\n",
    "        for idx, item in enumerate(self.coordinates):\n",
    "            if not item == o.coordinates[idx]:\n",
    "                return False\n",
    "        return True\n",
    "\n",
    "    def approximate_eq(self, o) -> bool:\n",
    "        for idx, item in enumerate(self.coordinates):\n",
    "            if not math.isclose(item, o.coordinates[idx]):\n",
    "                return False\n",
    "        return True\n",
    "\n",
    "    def __str__(self):\n",
    "        s = \",\".join([str(x) for x in self.coordinates])\n",
    "        return f\"({s})\"\n",
    "\n",
    "\n",
    "class Vec2(CoordinateVector):\n",
    "    @classmethod\n",
    "    def zero(cls):\n",
    "        return Vec2(0, 0)\n",
    "\n",
    "    @property\n",
    "    def dimension(self):\n",
    "        return 2\n",
    "\n",
    "\n",
    "print(Vec2(1, 3) - Vec2(5, 1))"
   ]
  },
  {
   "cell_type": "markdown",
   "metadata": {},
   "source": [
    "下面是一个通用的单元测试 for `vec2`"
   ]
  },
  {
   "cell_type": "code",
   "execution_count": null,
   "metadata": {
    "pycharm": {
     "is_executing": true
    }
   },
   "outputs": [
    {
     "name": "stdout",
     "output_type": "stream",
     "text": [
      "success unit test:0\n",
      "success unit test:1\n",
      "success unit test:2\n",
      "success unit test:3\n",
      "success unit test:4\n",
      "success unit test:5\n",
      "success unit test:6\n",
      "success unit test:7\n",
      "success unit test:8\n",
      "success unit test:9\n"
     ]
    }
   ],
   "source": [
    "from random import uniform\n",
    "\n",
    "\n",
    "def random_scalar() -> float:\n",
    "    return uniform(-10, 10)\n",
    "\n",
    "\n",
    "def random_vec2() -> Vec2:\n",
    "    return Vec2(random_scalar(), random_scalar())\n",
    "\n",
    "\n",
    "def eq(u: Vector, v: Vector) -> bool:\n",
    "    return u.approximate_eq(v)\n",
    "\n",
    "\n",
    "def test(a: float, b: float, u: Vector, v: Vector, w: Vector):\n",
    "    # 交换律\n",
    "    assert eq(u + v, v + u)\n",
    "    # 结合律\n",
    "    assert eq(u + (v + w), (u + v) + w)\n",
    "    # 乘法结合律\n",
    "    assert eq(a * (b * v), (a * b) * v)\n",
    "    assert eq(1 * v, v)\n",
    "    assert eq((a + b) * v, a * v + b * v)\n",
    "    assert eq(a * v + a * w, a * (v + w))\n",
    "\n",
    "\n",
    "for i in range(0, 10):\n",
    "    a, b = random_scalar(), random_scalar()\n",
    "    u, v, w = random_vec2(), random_vec2(), random_vec2()\n",
    "    test(a, b, u, v, w)\n",
    "    print(f\"success unit test:{i}\")"
   ]
  },
  {
   "cell_type": "markdown",
   "metadata": {},
   "source": [
    "> exec 6.1 : 实现 Vec3"
   ]
  },
  {
   "cell_type": "code",
   "execution_count": null,
   "metadata": {
    "pycharm": {
     "is_executing": true
    }
   },
   "outputs": [],
   "source": [
    "class Vec3(CoordinateVector):\n",
    "    @property\n",
    "    def dimension(self):\n",
    "        return 3\n",
    "\n",
    "    @classmethod\n",
    "    def zero(cls):\n",
    "        return Vec3(0, 0, 0)\n"
   ]
  },
  {
   "cell_type": "markdown",
   "metadata": {},
   "source": [
    "> exec 6.2 : 实现 Vec6"
   ]
  },
  {
   "cell_type": "code",
   "execution_count": null,
   "metadata": {
    "pycharm": {
     "is_executing": true
    }
   },
   "outputs": [
    {
     "name": "stdout",
     "output_type": "stream",
     "text": [
      "(2,4,6,8,10,12)\n"
     ]
    }
   ],
   "source": [
    "\n",
    "class Vec6(CoordinateVector):\n",
    "    @classmethod\n",
    "    def zero(cls):\n",
    "        return Vec6(0, 0, 0)\n",
    "\n",
    "    @property\n",
    "    def dimension(self):\n",
    "        return 6\n",
    "\n",
    "\n",
    "print(Vec6(1, 2, 3, 4, 5, 6) * 2)"
   ]
  },
  {
   "cell_type": "markdown",
   "metadata": {},
   "source": [
    "> exec 6.3 为 Vec3 写通用的测试"
   ]
  },
  {
   "cell_type": "code",
   "execution_count": 52,
   "metadata": {},
   "outputs": [
    {
     "name": "stdout",
     "output_type": "stream",
     "text": [
      "success unit test:0\n",
      "success unit test:1\n",
      "success unit test:2\n",
      "success unit test:3\n",
      "success unit test:4\n",
      "success unit test:5\n",
      "success unit test:6\n",
      "success unit test:7\n",
      "success unit test:8\n",
      "success unit test:9\n"
     ]
    }
   ],
   "source": [
    "def random_vec3() -> Vec3:\n",
    "    return Vec3(random_scalar(), random_scalar(), random_scalar())\n",
    "\n",
    "\n",
    "for i in range(0, 10):\n",
    "    a, b = random_scalar(), random_scalar()\n",
    "    u, v, w = random_vec3(), random_vec3(), random_vec3()\n",
    "    test(a, b, u, v, w)\n",
    "    print(f\"success unit test:{i}\")"
   ]
  },
  {
   "cell_type": "markdown",
   "metadata": {},
   "source": []
  },
  {
   "cell_type": "markdown",
   "metadata": {},
   "source": [
    "> exec 6.4: 测试 线性组合 和 zero 的不变性"
   ]
  },
  {
   "cell_type": "code",
   "execution_count": 47,
   "metadata": {},
   "outputs": [
    {
     "name": "stdout",
     "output_type": "stream",
     "text": [
      "success unit test:0\n",
      "success unit test:1\n",
      "success unit test:2\n",
      "success unit test:3\n",
      "success unit test:4\n",
      "success unit test:5\n",
      "success unit test:6\n",
      "success unit test:7\n",
      "success unit test:8\n",
      "success unit test:9\n"
     ]
    }
   ],
   "source": [
    "\n",
    "def test(a: float, b: float, u: Vector, v: Vector, w: Vector, zero: Vector):\n",
    "    # 交换律\n",
    "    assert eq(u + v, v + u)\n",
    "    # 结合律\n",
    "    assert eq(u + (v + w), (u + v) + w)\n",
    "    # 乘法结合律\n",
    "    assert eq(a * (b * v), (a * b) * v)\n",
    "    assert eq(1 * v, v)\n",
    "    assert eq((a + b) * v, a * v + b * v)\n",
    "    assert eq(a * v + a * w, a * (v + w))\n",
    "    assert eq(zero + v, v)\n",
    "    assert eq(0 * v, zero)\n",
    "\n",
    "\n",
    "for i in range(0, 10):\n",
    "    a, b = random_scalar(), random_scalar()\n",
    "    u, v, w = random_vec2(), random_vec2(), random_vec2()\n",
    "    test(a, b, u, v, w, Vec2.zero())\n",
    "    print(f\"success unit test:{i}\")"
   ]
  }
 ],
 "metadata": {
  "kernelspec": {
   "display_name": "Python 3 (ipykernel)",
   "language": "python",
   "name": "python3"
  },
  "language_info": {
   "codemirror_mode": {
    "name": "ipython",
    "version": 3
   },
   "file_extension": ".py",
   "mimetype": "text/x-python",
   "name": "python",
   "nbconvert_exporter": "python",
   "pygments_lexer": "ipython3",
   "version": "3.10.9"
  }
 },
 "nbformat": 4,
 "nbformat_minor": 1
}
