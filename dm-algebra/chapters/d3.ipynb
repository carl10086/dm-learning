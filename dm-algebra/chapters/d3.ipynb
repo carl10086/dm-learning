{
 "cells": [
  {
   "cell_type": "markdown",
   "source": [
    "有无数的导数公式, 不可能把他们全部都背下来. 如果我们想知道 一个导数的公式. 我们可以使用一些工具 .\n",
    "\n",
    "\n",
    "## 1. 用计算机代数系统计算精确的导数 .\n",
    "\n",
    "`Mathematica` 是最流行的 计算机代数系统之一, 可以在 Wolfram Alpha 在获取.\n",
    "\n",
    "这是个非常牛的网站. 有自己的语法 . 但是对输入很兼容  比如说 `python` 语法就能完全的支持 .\n",
    "\n",
    "例如, 输入:\n",
    "1/1(1+e**(-x)) . 这个函数不仅仅是导数, 各种东西就全部出来了. 导数是 `Derivative` 那段的 .\n",
    "\n",
    "$$\n",
    "f^{'}(x) = \\frac{e^{-x}}{(1 + e^{-x})^2}\n",
    "$$\n",
    "\n",
    "如果你理解了 导数和变化率的概念. 那么最重要的技能之一就是学一下 他的语法 .\n",
    "\n",
    "当然作为数学爱好者, 学习一下 推导过程也是很有趣的"
   ],
   "metadata": {
    "collapsed": false
   }
  },
  {
   "cell_type": "markdown",
   "source": [
    "$$\n",
    "f(x) = (3x^2 + x)sin(x)\n",
    "$$"
   ],
   "metadata": {
    "collapsed": false
   }
  },
  {
   "cell_type": "code",
   "execution_count": 1,
   "outputs": [],
   "source": [
    "# python 中的语法如下:\n",
    "\n",
    "from math import sin\n",
    "\n",
    "\n",
    "def f(x):\n",
    "    return (3 * x ** 2 + x) * sin(x)"
   ],
   "metadata": {
    "collapsed": false
   }
  },
  {
   "cell_type": "markdown",
   "source": [
    "我们的策略是 把代数表达式建模为 数据结构, 而不是直接翻译为 `python` 代码, 意思是工程上也要玩一下先 .\n",
    "\n",
    "\n",
    "### 1.1 将表达式拆分为若干个部分 .\n",
    "\n",
    "比如说分为2个部分\n",
    "\n",
    "$$3x^2 + x$$ 和 $$sin(x)$$"
   ],
   "metadata": {
    "collapsed": false
   }
  },
  {
   "cell_type": "markdown",
   "source": [
    "在函数式编程的术语中, 这种把较小对象合成较大对象的函数通常称为 组合器. 下面是隐含的组合器 .\n",
    "\n",
    "- 3x^2 是表达式 3 和 x^2 的乘法, 也就是幂运算好像 > 乘法运算的优先级\n",
    "- sin(x) 是一个函数应用, 给定表达式 sin 和 x 可以建立一个新的 表达式 sin(x)"
   ],
   "metadata": {
    "collapsed": false
   }
  },
  {
   "cell_type": "markdown",
   "source": [
    "### 1.2 构建表达式树 .\n",
    "\n",
    "幂\n",
    "- x\n",
    "- 2\n",
    "\n",
    "就是用 幂运算把 x 和 2 结合起来 .\n",
    "\n",
    "下一步则是把上面的结果 x^2 和 3 用乘法结合\n",
    "\n",
    "乘法\n",
    "- x^2\n",
    "- 3\n",
    "\n",
    "这种结构中: 输入乘法组合器的表达式本身也是1个组合器.\n",
    "\n",
    "这个结构会越来越深 , 也就是 最典型 的树状结构 ."
   ],
   "metadata": {
    "collapsed": false
   }
  },
  {
   "cell_type": "markdown",
   "source": [
    "- 树的根是一个乘法组合器 .\n",
    "- 有2个分支\n",
    "\n",
    "### 1.3 用 Python 语言实现表达式树"
   ],
   "metadata": {
    "collapsed": false
   }
  },
  {
   "cell_type": "code",
   "execution_count": 2,
   "outputs": [
    {
     "data": {
      "text/plain": "<__main__.Power at 0x1071f9c60>"
     },
     "execution_count": 2,
     "metadata": {},
     "output_type": "execute_result"
    }
   ],
   "source": [
    "class Power():\n",
    "    def __init__(self, base, exponent):\n",
    "        self.base = base\n",
    "        self.exponent = exponent\n",
    "\n",
    "\n",
    "class Number():\n",
    "    # 数\n",
    "    def __init__(self, number):\n",
    "        self.number = number\n",
    "\n",
    "\n",
    "class Variable():\n",
    "    # 变量\n",
    "    def __init__(self, symbol):\n",
    "        self.symbol = symbol\n",
    "\n",
    "\n",
    "Power(Variable(\"x\"), Number(2))"
   ],
   "metadata": {
    "collapsed": false
   }
  },
  {
   "cell_type": "markdown",
   "source": [
    "每 一个组合器都可以被实现为一个具名的类, 用来存储它所组合的任意表达式的数据 .\n",
    "\n",
    "例如: 乘法组合起可以是 2个相乘表达式的类 ."
   ],
   "metadata": {
    "collapsed": false
   }
  },
  {
   "cell_type": "code",
   "execution_count": 3,
   "outputs": [],
   "source": [
    "class Product():\n",
    "    def __init__(self, exp1, exp2):\n",
    "        self.exp1 = exp1\n",
    "        self.exp2 = exp2"
   ],
   "metadata": {
    "collapsed": false
   }
  },
  {
   "cell_type": "code",
   "execution_count": 4,
   "outputs": [
    {
     "data": {
      "text/plain": "<__main__.Product at 0x1071f93c0>"
     },
     "execution_count": 4,
     "metadata": {},
     "output_type": "execute_result"
    }
   ],
   "source": [
    "Product(Number(3), Power(Variable(\"x\"), Number(2)))"
   ],
   "metadata": {
    "collapsed": false
   }
  },
  {
   "cell_type": "code",
   "execution_count": 5,
   "outputs": [],
   "source": [
    "class Sum():\n",
    "    def __init__(self, *exps):  #<1> 允许计算任意多个和 .\n",
    "        self.exps = exps\n",
    "\n",
    "\n",
    "class Function():  #<2> 使用字符串存储函数名称,例如 sin\n",
    "    def __init__(self, name):\n",
    "        self.name = name\n",
    "\n",
    "\n",
    "class Apply():  #<3> 存储1个函数以及传入函数的参数\n",
    "    def __init__(self, function, argument):\n",
    "        self.function = function\n",
    "        self.argument = argument\n",
    "\n",
    "\n",
    "f_expression = Product(  #<4> 表达了 (3 x^2 + x)sin(x) 的准确表示\n",
    "    Sum(\n",
    "        Product(\n",
    "            Number(3),\n",
    "            Power(\n",
    "                Variable(\"x\"),\n",
    "                Number(2))),\n",
    "        Variable(\"x\")),\n",
    "    Apply(\n",
    "        Function(\"sin\"),\n",
    "        Variable(\"x\")))"
   ],
   "metadata": {
    "collapsed": false
   }
  },
  {
   "cell_type": "markdown",
   "source": [
    "理解下面的 表达式代表了 .\n",
    "\n",
    "$$\n",
    "cos(x^3-5)\n",
    "$$\n"
   ],
   "metadata": {
    "collapsed": false
   }
  },
  {
   "cell_type": "code",
   "execution_count": 6,
   "outputs": [
    {
     "data": {
      "text/plain": "<__main__.Apply at 0x1071fbca0>"
     },
     "execution_count": 6,
     "metadata": {},
     "output_type": "execute_result"
    }
   ],
   "source": [
    "Apply(Function(\"cos\"), Sum(Power(Variable(\"x\"), Number(\"3\")), Number(-5)))"
   ],
   "metadata": {
    "collapsed": false
   }
  },
  {
   "cell_type": "markdown",
   "source": [
    "### 1.4 exercises\n",
    "\n",
    "**exec1**: 自然对数是一种特殊的数学函数, 写做 ln(x) ."
   ],
   "metadata": {
    "collapsed": false
   }
  },
  {
   "cell_type": "code",
   "execution_count": 7,
   "outputs": [
    {
     "data": {
      "text/plain": "<__main__.Apply at 0x1071fbbe0>"
     },
     "execution_count": 7,
     "metadata": {},
     "output_type": "execute_result"
    }
   ],
   "source": [
    "Apply(\n",
    "    Function(\"ln\"),\n",
    "    Power(Variable(\"y\"), Number(\"z\"))\n",
    ")"
   ],
   "metadata": {
    "collapsed": false
   }
  },
  {
   "cell_type": "code",
   "execution_count": 8,
   "outputs": [],
   "source": [
    "from math import log\n",
    "\n",
    "\n",
    "def f(y, z):\n",
    "    return log(y ** z)"
   ],
   "metadata": {
    "collapsed": false
   }
  },
  {
   "cell_type": "markdown",
   "source": [
    "**exec2**: 实现一个 Quotient 表示2个表达式 相除, 相减"
   ],
   "metadata": {
    "collapsed": false
   }
  },
  {
   "cell_type": "code",
   "execution_count": 9,
   "outputs": [],
   "source": [
    "class Quotient():\n",
    "    def __init__(self, numerator, denominator):\n",
    "        self.numerator = numerator\n",
    "        self.denominator = denominator\n",
    "\n",
    "\n",
    "class Difference():\n",
    "    def __init__(self, exp1, exp2):\n",
    "        self.exp1 = exp1\n",
    "        self.exp2 = exp2\n",
    "\n",
    "\n",
    "class Negative():\n",
    "    def __init__(self, exp):\n",
    "        self.exp = exp"
   ],
   "metadata": {
    "collapsed": false
   }
  },
  {
   "cell_type": "markdown",
   "source": [
    "## 2. 符号表达式的应用\n",
    "\n",
    "\n",
    "### 2.1 寻找表达式中的所有变量.\n",
    "\n",
    "\n",
    "现在来实现 一个函数, 它接收1个表达式并返回其中不同变量的列表 .\n",
    "\n",
    "例如:\n",
    "$$h(z) = 2z + 3$$ 包含了 z.\n",
    "\n",
    "$$g(x) = 7 $$ 中不包含任何变量 .\n",
    "\n",
    "我们可以写一个函数 `distinct_variables`\n",
    "- 接收1个表达式 (任何的元素或者组合器) ;\n",
    "- 返回 1个包含变量的 `Python` 集合 ;\n",
    "\n",
    "这时候可以使用递归 简化我们的代码, 毕竟我们现在不追求性能 ."
   ],
   "metadata": {
    "collapsed": false
   }
  },
  {
   "cell_type": "code",
   "execution_count": 10,
   "outputs": [],
   "source": [
    "def distinct_variables(exp):\n",
    "    if isinstance(exp, Variable):\n",
    "        return set(exp.symbol)\n",
    "    elif isinstance(exp, Number):\n",
    "        return set()\n",
    "    elif isinstance(exp, Sum):\n",
    "        return set().union(*[distinct_variables(exp) for exp in exp.exps])\n",
    "    elif isinstance(exp, Product):\n",
    "        return distinct_variables(exp.exp1).union(distinct_variables(exp.exp2))\n",
    "    elif isinstance(exp, Power):\n",
    "        return distinct_variables(exp.base).union(distinct_variables(exp.exponent))\n",
    "    elif isinstance(exp, Apply):\n",
    "        return distinct_variables(exp.argument)\n",
    "    else:\n",
    "        raise TypeError(\"Not a valid expression.\")"
   ],
   "metadata": {
    "collapsed": false
   }
  },
  {
   "cell_type": "code",
   "execution_count": 11,
   "outputs": [
    {
     "data": {
      "text/plain": "{'z'}"
     },
     "execution_count": 11,
     "metadata": {},
     "output_type": "execute_result"
    }
   ],
   "source": [
    "distinct_variables(Variable(\"z\"))"
   ],
   "metadata": {
    "collapsed": false
   }
  },
  {
   "cell_type": "code",
   "execution_count": 12,
   "outputs": [
    {
     "data": {
      "text/plain": "set()"
     },
     "execution_count": 12,
     "metadata": {},
     "output_type": "execute_result"
    }
   ],
   "source": [
    "distinct_variables(Number(3))"
   ],
   "metadata": {
    "collapsed": false
   }
  },
  {
   "cell_type": "code",
   "execution_count": 13,
   "outputs": [
    {
     "data": {
      "text/plain": "{'x'}"
     },
     "execution_count": 13,
     "metadata": {},
     "output_type": "execute_result"
    }
   ],
   "source": [
    "distinct_variables(f_expression)"
   ],
   "metadata": {
    "collapsed": false
   }
  },
  {
   "cell_type": "markdown",
   "source": [
    "### 2.2 计算表达式的值.\n",
    "\n",
    "我们已经的得到了 代码表达形式 .\n",
    "\n",
    "简单的说, 计算一个函数 f(x) 的值, 意味着把函数中所有的 x 都替换为 5 然后去计算.\n",
    "\n",
    "和寻找变量的一样的, 我们也是写 if -else 然后递归 .\n",
    "\n",
    "1. 首先 我们要知道需要替换哪些变量， 替换为 什么值\n",
    "    - 计算机中 这可以叫做 `variable  binding`\n",
    "2. 然后, 我们使用另外的代码风格来做"
   ],
   "metadata": {
    "collapsed": false
   }
  },
  {
   "cell_type": "code",
   "execution_count": 14,
   "outputs": [],
   "source": [
    "from abc import ABC, abstractmethod\n",
    "\n",
    "\n",
    "class Expression(ABC):\n",
    "    @abstractmethod\n",
    "    def evaluate(self, **bindings):\n",
    "        pass\n",
    "\n",
    "\n",
    "class Number(Expression):\n",
    "    def __init__(self, number):\n",
    "        self.number = number\n",
    "\n",
    "    def evaluate(self, **bindings):\n",
    "        return self.number\n",
    "\n",
    "\n",
    "class Variable(Expression):\n",
    "    def __init__(self, symbol):\n",
    "        self.symbol = symbol\n",
    "\n",
    "    def evaluate(self, **bindings):\n",
    "        try:\n",
    "            return bindings[self.symbol]\n",
    "        except:\n",
    "            raise KeyError(\"Variable '{}' is not bound.\".format(self.symbol))\n",
    "\n",
    "\n",
    "class Product(Expression):\n",
    "    \"\"\"\n",
    "    新的乘法 .\n",
    "    \"\"\"\n",
    "\n",
    "    def __init__(self, exp1, exp2):\n",
    "        self.exp1 = exp1\n",
    "        self.exp2 = exp2\n",
    "\n",
    "    def evaluate(self, **bindings):\n",
    "        return self.exp1.evaluate(**bindings) * self.exp2.evaluate(**bindings)"
   ],
   "metadata": {
    "collapsed": false
   }
  },
  {
   "cell_type": "code",
   "execution_count": 15,
   "outputs": [
    {
     "data": {
      "text/plain": "10"
     },
     "execution_count": 15,
     "metadata": {},
     "output_type": "execute_result"
    }
   ],
   "source": [
    "Product(Variable(\"x\"), Variable(\"y\")).evaluate(x=2, y=5)"
   ],
   "metadata": {
    "collapsed": false
   }
  },
  {
   "cell_type": "markdown",
   "source": [
    "同样的思路 ,我们可以为 其他的也做这个工作 .\n",
    "\n",
    "注意 Apply 组合器的工作方式不同, 需要动态的查看函数名, 例如 `sin` 或者 `Sqrt` .\n",
    "\n",
    "需要找到对应的函数, 简单来做也是 `if-else`"
   ],
   "metadata": {
    "collapsed": false
   }
  },
  {
   "cell_type": "code",
   "execution_count": 16,
   "outputs": [],
   "source": [
    "import math\n",
    "from math import sin, cos, log\n",
    "\n",
    "_function_bindings = {\n",
    "    \"sin\": math.sin,\n",
    "    \"cos\": math.cos,\n",
    "    \"ln\": math.log\n",
    "}\n",
    "\n",
    "\n",
    "class Apply(Expression):\n",
    "    def __init__(self, function, argument):\n",
    "        self.function = function\n",
    "        self.argument = argument\n",
    "\n",
    "    def evaluate(self, **bindings):\n",
    "        return _function_bindings[self.function.name](self.argument.evaluate(**bindings))\n",
    "\n",
    "\n",
    "class Sum(Expression):\n",
    "    def __init__(self, *exps):\n",
    "        self.exps = exps\n",
    "\n",
    "    def evaluate(self, **bindings):\n",
    "        return sum([exp.evaluate(**bindings) for exp in self.exps])\n",
    "\n",
    "\n",
    "class Power(Expression):\n",
    "    def __init__(self, base, exponent):\n",
    "        self.base = base\n",
    "        self.exponent = exponent\n",
    "\n",
    "    def evaluate(self, **bindings):\n",
    "        return self.base.evaluate(**bindings) ** self.exponent.evaluate(**bindings)\n",
    "\n",
    "\n",
    "class Difference(Expression):\n",
    "    def __init__(self, exp1, exp2):\n",
    "        self.exp1 = exp1\n",
    "        self.exp2 = exp2\n",
    "\n",
    "    def evaluate(self, **bindings):\n",
    "        return self.exp1.evaluate(**bindings) - self.exp2.evaluate(**bindings)\n",
    "\n",
    "\n",
    "class Quotient(Expression):\n",
    "    def __init__(self, numerator, denominator):\n",
    "        self.numerator = numerator\n",
    "        self.denominator = denominator\n",
    "\n",
    "    def evaluate(self, **bindings):\n",
    "        return self.numerator.evaluate(**bindings) / self.denominator.evaluate(**bindings)"
   ],
   "metadata": {
    "collapsed": false
   }
  },
  {
   "cell_type": "code",
   "execution_count": 17,
   "outputs": [
    {
     "data": {
      "text/plain": "-76.71394197305108"
     },
     "execution_count": 17,
     "metadata": {},
     "output_type": "execute_result"
    }
   ],
   "source": [
    "f_expression = Product(  #<4>\n",
    "    Sum(\n",
    "        Product(\n",
    "            Number(3),\n",
    "            Power(\n",
    "                Variable(\"x\"),\n",
    "                Number(2))),\n",
    "        Variable(\"x\")),\n",
    "    Apply(\n",
    "        Function(\"sin\"),\n",
    "        Variable(\"x\")))\n",
    "\n",
    "f_expression.evaluate(x=5)"
   ],
   "metadata": {
    "collapsed": false
   }
  },
  {
   "cell_type": "markdown",
   "source": [
    "校验一下发现是相同的 ."
   ],
   "metadata": {
    "collapsed": false
   }
  },
  {
   "cell_type": "code",
   "execution_count": 18,
   "outputs": [
    {
     "data": {
      "text/plain": "-76.71394197305108"
     },
     "execution_count": 18,
     "metadata": {},
     "output_type": "execute_result"
    }
   ],
   "source": [
    "from math import sin\n",
    "\n",
    "\n",
    "def f(x):\n",
    "    return (3 * x ** 2 + x) * sin(x)\n",
    "\n",
    "\n",
    "f(5)"
   ],
   "metadata": {
    "collapsed": false
   }
  },
  {
   "cell_type": "markdown",
   "source": [
    "### 2.3 表达式的展开\n",
    "\n",
    "我们还可以用表达式结构做很多事情 .\n",
    "\n",
    "在看之前的需求: 表达式展开 .\n",
    "\n",
    "这意味着将和的任意乘积或者 幂运算都搞出来\n",
    "\n",
    "在代数中有很多律 .\n",
    "\n",
    "例如: $$(a + b)c = ac + bc$$\n",
    "\n",
    "这就是一个展开"
   ],
   "metadata": {
    "collapsed": false
   }
  },
  {
   "cell_type": "code",
   "execution_count": 18,
   "outputs": [],
   "source": [],
   "metadata": {
    "collapsed": false
   }
  },
  {
   "cell_type": "code",
   "execution_count": 19,
   "outputs": [],
   "source": [
    "class Expression(ABC):\n",
    "    @abstractmethod\n",
    "    def evaluate(self, **bindings):\n",
    "        pass\n",
    "\n",
    "    @abstractmethod\n",
    "    def expand(self):\n",
    "        pass\n",
    "\n",
    "    # Printing expressions legibly in REPL (See first mini project in 2.4)\n",
    "    @abstractmethod\n",
    "    def display(self):\n",
    "        pass\n",
    "\n",
    "    def __repr__(self):\n",
    "        return self.display()"
   ],
   "metadata": {
    "collapsed": false
   }
  },
  {
   "cell_type": "code",
   "execution_count": 20,
   "outputs": [],
   "source": [
    "class Sum(Expression):\n",
    "    def __init__(self, *exps):\n",
    "        self.exps = exps\n",
    "\n",
    "    def evaluate(self, **bindings):\n",
    "        return sum([exp.evaluate(**bindings) for exp in self.exps])\n",
    "\n",
    "    def expand(self):\n",
    "        return Sum(*[exp.expand() for exp in self.exps])\n",
    "\n",
    "    def display(self):\n",
    "        return \"Sum({})\".format(\",\".join([e.display() for e in self.exps]))\n",
    "\n",
    "\n",
    "class Product(Expression):\n",
    "    def __init__(self, exp1, exp2):\n",
    "        self.exp1 = exp1\n",
    "        self.exp2 = exp2\n",
    "\n",
    "    def evaluate(self, **bindings):\n",
    "        return self.exp1.evaluate(**bindings) * self.exp2.evaluate(**bindings)\n",
    "\n",
    "    def expand(self):\n",
    "        expanded1 = self.exp1.expand()\n",
    "        expanded2 = self.exp2.expand()\n",
    "        if isinstance(expanded1, Sum):\n",
    "            return Sum(*[Product(e, expanded2).expand() for e in expanded1.exps])\n",
    "        elif isinstance(expanded2, Sum):\n",
    "            return Sum(*[Product(expanded1, e) for e in expanded2.exps])\n",
    "        else:\n",
    "            return Product(expanded1, expanded2)\n",
    "\n",
    "    def display(self):\n",
    "        return \"Product({},{})\".format(self.exp1.display(), self.exp2.display())\n",
    "\n",
    "\n",
    "class Difference(Expression):\n",
    "    def __init__(self, exp1, exp2):\n",
    "        self.exp1 = exp1\n",
    "        self.exp2 = exp2\n",
    "\n",
    "    def evaluate(self, **bindings):\n",
    "        return self.exp1.evaluate(**bindings) - self.exp2.evaluate(**bindings)\n",
    "\n",
    "    def expand(self):\n",
    "        return self\n",
    "\n",
    "    def display(self):\n",
    "        return \"Difference({},{})\".format(self.exp1.display(), self.exp2.display())\n",
    "\n",
    "\n",
    "class Quotient(Expression):\n",
    "    def __init__(self, numerator, denominator):\n",
    "        self.numerator = numerator\n",
    "        self.denominator = denominator\n",
    "\n",
    "    def evaluate(self, **bindings):\n",
    "        return self.numerator.evaluate(**bindings) / self.denominator.evaluate(**bindings)\n",
    "\n",
    "    def expand(self):\n",
    "        return self\n",
    "\n",
    "    def display(self):\n",
    "        return \"Quotient({},{})\".format(self.numerator.display(), self.denominator.display())\n",
    "\n",
    "\n",
    "class Negative(Expression):\n",
    "    def __init__(self, exp):\n",
    "        self.exp = exp\n",
    "\n",
    "    def evaluate(self, **bindings):\n",
    "        return - self.exp.evaluate(**bindings)\n",
    "\n",
    "    def expand(self):\n",
    "        return self\n",
    "\n",
    "    def display(self):\n",
    "        return \"Negative({})\".format(self.exp.display())\n",
    "\n",
    "\n",
    "class Number(Expression):\n",
    "    def __init__(self, number):\n",
    "        self.number = number\n",
    "\n",
    "    def evaluate(self, **bindings):\n",
    "        return self.number\n",
    "\n",
    "    def expand(self):\n",
    "        return self\n",
    "\n",
    "    def display(self):\n",
    "        return \"Number({})\".format(self.number)\n",
    "\n",
    "\n",
    "class Power(Expression):\n",
    "    def __init__(self, base, exponent):\n",
    "        self.base = base\n",
    "        self.exponent = exponent\n",
    "\n",
    "    def evaluate(self, **bindings):\n",
    "        return self.base.evaluate(**bindings) ** self.exponent.evaluate(**bindings)\n",
    "\n",
    "    def expand(self):\n",
    "        return self\n",
    "\n",
    "    def display(self):\n",
    "        return \"Power({},{})\".format(self.base.display(), self.exponent.display())\n",
    "\n",
    "\n",
    "class Variable(Expression):\n",
    "    def __init__(self, symbol):\n",
    "        self.symbol = symbol\n",
    "\n",
    "    def evaluate(self, **bindings):\n",
    "        return bindings[self.symbol]\n",
    "\n",
    "    def expand(self):\n",
    "        return self\n",
    "\n",
    "    def display(self):\n",
    "        return \"Variable(\\\"{}\\\")\".format(self.symbol)\n",
    "\n",
    "\n",
    "class Function():\n",
    "    def __init__(self, name, make_latex=None):\n",
    "        self.name = name\n",
    "        self.make_latex = make_latex\n",
    "\n",
    "    def latex(self, arg_latex):\n",
    "        if self.make_latex:\n",
    "            return self.make_latex(arg_latex)\n",
    "        else:\n",
    "            return \" \\\\operatorname{{ {} }} \\\\left( {} \\\\right)\".format(self.name, arg_latex)\n",
    "\n",
    "\n",
    "class Apply(Expression):\n",
    "    def __init__(self, function, argument):\n",
    "        self.function = function\n",
    "        self.argument = argument\n",
    "\n",
    "    def evaluate(self, **bindings):\n",
    "        return _function_bindings[self.function.name](self.argument.evaluate(**bindings))\n",
    "\n",
    "    def expand(self):\n",
    "        return Apply(self.function, self.argument.expand())\n",
    "\n",
    "    def display(self):\n",
    "        return \"Apply(Function(\\\"{}\\\"),{})\".format(self.function.name, self.argument.display())"
   ],
   "metadata": {
    "collapsed": false
   }
  },
  {
   "cell_type": "code",
   "execution_count": 21,
   "outputs": [
    {
     "data": {
      "text/plain": "Product(Sum(Variable(\"a\"),Variable(\"b\")),Sum(Variable(\"y\"),Variable(\"z\")))"
     },
     "execution_count": 21,
     "metadata": {},
     "output_type": "execute_result"
    }
   ],
   "source": [
    "Y = Variable('y')\n",
    "Z = Variable('z')\n",
    "A = Variable('a')\n",
    "B = Variable('b')\n",
    "Product(Sum(A, B), Sum(Y, Z))"
   ],
   "metadata": {
    "collapsed": false
   }
  },
  {
   "cell_type": "code",
   "execution_count": 22,
   "outputs": [
    {
     "data": {
      "text/plain": "Sum(Sum(Product(Variable(\"a\"),Variable(\"y\")),Product(Variable(\"a\"),Variable(\"z\"))),Sum(Product(Variable(\"b\"),Variable(\"y\")),Product(Variable(\"b\"),Variable(\"z\"))))"
     },
     "execution_count": 22,
     "metadata": {},
     "output_type": "execute_result"
    }
   ],
   "source": [
    "Product(Sum(A, B), Sum(Y, Z)).expand()"
   ],
   "metadata": {
    "collapsed": false
   }
  },
  {
   "cell_type": "code",
   "execution_count": 23,
   "outputs": [
    {
     "data": {
      "text/plain": "Sum(Product(Product(Number(3),Power(Variable(\"x\"),Number(2))),Apply(Function(\"sin\"),Variable(\"x\"))),Product(Variable(\"x\"),Apply(Function(\"sin\"),Variable(\"x\"))))"
     },
     "execution_count": 23,
     "metadata": {},
     "output_type": "execute_result"
    }
   ],
   "source": [
    "f_expression = Product(  #<4>\n",
    "    Sum(\n",
    "        Product(\n",
    "            Number(3),\n",
    "            Power(\n",
    "                Variable(\"x\"),\n",
    "                Number(2))),\n",
    "        Variable(\"x\")),\n",
    "    Apply(\n",
    "        Function(\"sin\"),\n",
    "        Variable(\"x\")))\n",
    "\n",
    "f_expression.expand()"
   ],
   "metadata": {
    "collapsed": false
   }
  },
  {
   "cell_type": "markdown",
   "source": [
    "### 2.4 exercises\n",
    "\n",
    "**exec1:** 写1个 contains 函数, 类似之前的 set 函数 .\n"
   ],
   "metadata": {
    "collapsed": false
   }
  },
  {
   "cell_type": "code",
   "execution_count": 24,
   "outputs": [],
   "source": [
    "def contains(exp, var):\n",
    "    if isinstance(exp, Variable):\n",
    "        return exp.symbol == var.symbol\n",
    "    elif isinstance(exp, Number):\n",
    "        return False\n",
    "    elif isinstance(exp, Sum):\n",
    "        return any([contains(e, var) for e in exp.exps])\n",
    "    elif isinstance(exp, Product):\n",
    "        return contains(exp.exp1, var) or contains(exp.exp2, var)\n",
    "    elif isinstance(exp, Power):\n",
    "        return contains(exp.base, var) or contains(exp.exponent, var)\n",
    "    elif isinstance(exp, Apply):\n",
    "        return contains(exp.argument, var)\n",
    "    else:\n",
    "        raise TypeError(\"Not a valid expression.\")"
   ],
   "metadata": {
    "collapsed": false
   }
  },
  {
   "cell_type": "markdown",
   "source": [
    "**exec2:** : 实现1个 distinct_functions 函数, 接收1个表达式作为承诺书, 并返回表达式中不重复的函数 ."
   ],
   "metadata": {
    "collapsed": false
   }
  },
  {
   "cell_type": "code",
   "execution_count": 25,
   "outputs": [],
   "source": [
    "def distinct_functions(exp):\n",
    "    if isinstance(exp, Variable):\n",
    "        return set()\n",
    "    elif isinstance(exp, Number):\n",
    "        return set()\n",
    "    elif isinstance(exp, Sum):\n",
    "        return set().union(*[distinct_functions(exp) for exp in exp.exps])\n",
    "    elif isinstance(exp, Product):\n",
    "        return distinct_functions(exp.exp1).union(distinct_functions(exp.exp2))\n",
    "    elif isinstance(exp, Power):\n",
    "        return distinct_functions(exp.base).union(distinct_functions(exp.exponent))\n",
    "    elif isinstance(exp, Apply):\n",
    "        return set([exp.function.name]).union(distinct_functions(exp.argument))\n",
    "    else:\n",
    "        raise TypeError(\"Not a valid expression.\")"
   ],
   "metadata": {
    "collapsed": false
   }
  },
  {
   "cell_type": "markdown",
   "source": [
    "**exec3**: 实现 contains_sum , 接收1个表达式作为参数, 如果表达式包含 `Sum` 则返回 True, 否则返回 False ."
   ],
   "metadata": {
    "collapsed": false
   }
  },
  {
   "cell_type": "code",
   "execution_count": 26,
   "outputs": [],
   "source": [
    "def contains_sum(exp):\n",
    "    if isinstance(exp, Variable):\n",
    "        return False\n",
    "    elif isinstance(exp, Number):\n",
    "        return False\n",
    "    elif isinstance(exp, Sum):\n",
    "        return True\n",
    "    elif isinstance(exp, Product):\n",
    "        return contains_sum(exp.exp1) or contains_sum(exp.exp2)\n",
    "    elif isinstance(exp, Power):\n",
    "        return contains_sum(exp.base) or contains_sum(exp.exponent)\n",
    "    elif isinstance(exp, Apply):\n",
    "        return contains_sum(exp.argument)\n",
    "    else:\n",
    "        raise TypeError(\"Not a valid expression.\")"
   ],
   "metadata": {
    "collapsed": false
   }
  },
  {
   "cell_type": "markdown",
   "source": [
    "## 3. 求函数的导数\n",
    "\n",
    "法则就不说了, 都比价简单， 不行就查 .\n",
    "\n",
    "基本的法则 ;\n",
    "\n",
    "基本的转换 . 加法, 乘法的规则 .\n",
    "\n",
    "### 3.3 一些特殊函数的导数 .\n",
    "\n",
    "$$sin(x) -> cos(x)$$\n",
    "$$cos(x) -> -sin(x)$$\n",
    "$$a^x -> ln(a)\\cdot a^x$$\n",
    "$$ln(x) -> 1/x$$\n",
    "$$log_ax -> 1/(ln(a)\\cdot x)$$\n"
   ],
   "metadata": {
    "collapsed": false
   }
  },
  {
   "cell_type": "markdown",
   "source": [
    "### 3.4 乘法和组合的导数\n",
    "\n",
    "如果:\n",
    "$$f(x) = g(x)\\cdot h(x)$$\n",
    "\n",
    "那么:\n",
    "$$f^{'}(x) = g^{'}(x)\\cdot h(x) + g(x) \\cdot h^{'}(x)$$\n",
    "\n",
    "如果:\n",
    "$$f(x) = g(h(x))$$\n",
    "\n",
    "那么:\n",
    "$$\n",
    "f^{'}(x) = h^{'}(x) \\cdot g^{'}(h(x))\n",
    "$$"
   ],
   "metadata": {
    "collapsed": false
   }
  },
  {
   "cell_type": "markdown",
   "source": [
    "### 3.5 exercises\n",
    "\n",
    "**exec1**: 将数值导数 和符号导数一起绘制."
   ],
   "metadata": {
    "collapsed": false
   }
  },
  {
   "cell_type": "code",
   "execution_count": 27,
   "outputs": [
    {
     "data": {
      "text/plain": "<Figure size 640x480 with 1 Axes>",
      "image/png": "[encoded data removed]"
     },
     "metadata": {},
     "output_type": "display_data"
    }
   ],
   "source": [
    "import matplotlib.pyplot as plt\n",
    "import numpy as np\n",
    "\n",
    "\n",
    "def plot_function(f, tmin, tmax, tlabel=None, xlabel=None, axes=False, **kwargs):\n",
    "    ts = np.linspace(tmin, tmax, 1000)\n",
    "    if tlabel:\n",
    "        plt.xlabel(tlabel, fontsize=18)\n",
    "    if xlabel:\n",
    "        plt.ylabel(xlabel, fontsize=18)\n",
    "    plt.plot(ts, [f(t) for t in ts], **kwargs)\n",
    "    if axes:\n",
    "        total_t = tmax - tmin\n",
    "        plt.plot([tmin - total_t / 10, tmax + total_t / 10], [0, 0], c='k', linewidth=1)\n",
    "        plt.xlim(tmin - total_t / 10, tmax + total_t / 10)\n",
    "        xmin, xmax = plt.ylim()\n",
    "        plt.plot([0, 0], [xmin, xmax], c='k', linewidth=1)\n",
    "        plt.ylim(xmin, xmax)\n",
    "\n",
    "\n",
    "def p(x):\n",
    "    return x ** 5\n",
    "\n",
    "\n",
    "# plot_function(derivative(p))\n",
    "plot_function(lambda x: 5 * x ** 4, 0, 1)"
   ],
   "metadata": {
    "collapsed": false
   }
  },
  {
   "cell_type": "markdown",
   "source": [
    "**exec2**:  我们可以把只有1个变量的函数 看做1个向量空间 .\n",
    "\n",
    "根据求导的法则: 导数是这个向量空间的 线性变换 !."
   ],
   "metadata": {
    "collapsed": false
   }
  },
  {
   "cell_type": "markdown",
   "source": [
    "如果把 f 和 g 看作向量. 把导数写成函数 D\n",
    "\n",
    "$$\n",
    "D(f + g) = Df + Dg\n",
    "$$\n",
    "\n",
    "而且\n",
    "$$\n",
    "D(c\\cdot f) = c \\cdot Df\n",
    "$$"
   ],
   "metadata": {
    "collapsed": false
   }
  },
  {
   "cell_type": "markdown",
   "source": [
    "因此对 是封闭的, 可以看作是一个线性空间 ."
   ],
   "metadata": {
    "collapsed": false
   }
  },
  {
   "cell_type": "markdown",
   "source": [
    "**exec3** : 找出 f(x)/g(x) 的导数公式"
   ],
   "metadata": {
    "collapsed": false
   }
  },
  {
   "cell_type": "markdown",
   "source": [
    "把前面的简单合并就行 .\n",
    "\n",
    "$$\n",
    "\\frac {f^{'}(x)g(x) - f(x)g^{'}(x)} {g(x)^2}\n",
    "$$"
   ],
   "metadata": {
    "collapsed": false
   }
  },
  {
   "cell_type": "markdown",
   "source": [
    "**exec4**: 计算 f(g(h(x))) 对 x 的导数\n",
    "\n",
    "需要2次应用链式法则 .\n",
    "\n",
    "$$\n",
    "f^{'}(x) \\cdot g^{'}(h(x)) \\cdot f^{'}(g(h(x)))\n",
    "$$"
   ],
   "metadata": {
    "collapsed": false
   }
  },
  {
   "cell_type": "markdown",
   "source": [
    "## 4. 自动计算导数\n",
    "\n",
    "依旧是靠代码 .\n",
    "源码在 d3/expressions.py 中. 就是把之前的知识硬编码进去"
   ],
   "metadata": {
    "collapsed": false
   }
  },
  {
   "cell_type": "markdown",
   "source": [
    "## 5. 符号化积分函数\n",
    "\n",
    "不定积分就是 导数的逆运算 .\n",
    "\n",
    "一个导数的逆运算 有无限个， 因为 常熟不影响求导 .\n",
    "\n",
    "$$\n",
    "\\int cos(x) \\mathrm {d} x =  sin(x) + C\n",
    "$$\n",
    "\n",
    "$$\n",
    "\\int 3x^2 \\mathrm{d} x = x^3 + C\n",
    "$$\n",
    "\n",
    "还有一些特别难的\n",
    "\n",
    "$$\n",
    "\\int tan(x) \\mathrm{d} x\n",
    "$$\n",
    "\n",
    "还有一些算不出来的. 也就是不可积分的 .\n",
    "\n",
    "$$\n",
    "f(x) = e ^{x^2}\n",
    "$$\n"
   ],
   "metadata": {
    "collapsed": false
   }
  },
  {
   "cell_type": "markdown",
   "source": [
    "python 有一些库帮助我们做了很多事情 .\n",
    "例如 `SymPy` 库就一个开源的 Python 符号数学库 . 他有自己的表达式结构 .\n",
    "\n",
    "- 而且重载了 运算符.  比我们做的工作多了很多"
   ],
   "metadata": {
    "collapsed": false
   }
  },
  {
   "cell_type": "code",
   "execution_count": 28,
   "outputs": [
    {
     "data": {
      "text/plain": "y*(x + 3)",
      "text/latex": "$\\displaystyle y \\left(x + 3\\right)$"
     },
     "execution_count": 28,
     "metadata": {},
     "output_type": "execute_result"
    }
   ],
   "source": [
    "from sympy import *\n",
    "from sympy.core.core import *\n",
    "\n",
    "Mul(Symbol('y'), Add(3, Symbol('x')))"
   ],
   "metadata": {
    "collapsed": false
   }
  },
  {
   "cell_type": "code",
   "execution_count": 29,
   "outputs": [],
   "source": [
    "y = Symbol('y')"
   ],
   "metadata": {
    "collapsed": false
   }
  },
  {
   "cell_type": "code",
   "execution_count": 30,
   "outputs": [],
   "source": [
    "x = Symbol('x')"
   ],
   "metadata": {
    "collapsed": false
   }
  },
  {
   "cell_type": "code",
   "execution_count": 31,
   "outputs": [
    {
     "data": {
      "text/plain": "y*(x + 3)",
      "text/latex": "$\\displaystyle y \\left(x + 3\\right)$"
     },
     "execution_count": 31,
     "metadata": {},
     "output_type": "execute_result"
    }
   ],
   "source": [
    "y * (3 + x)"
   ],
   "metadata": {
    "collapsed": false
   }
  },
  {
   "cell_type": "code",
   "execution_count": 32,
   "outputs": [
    {
     "data": {
      "text/plain": "4*y",
      "text/latex": "$\\displaystyle 4 y$"
     },
     "execution_count": 32,
     "metadata": {},
     "output_type": "execute_result"
    }
   ],
   "source": [
    "y * (3 + x).subs(x, 1)"
   ],
   "metadata": {
    "collapsed": false
   }
  },
  {
   "cell_type": "code",
   "execution_count": 33,
   "outputs": [
    {
     "data": {
      "text/plain": "2*x",
      "text/latex": "$\\displaystyle 2 x$"
     },
     "execution_count": 33,
     "metadata": {},
     "output_type": "execute_result"
    }
   ],
   "source": [
    "(x ** 2).diff(x)  # 求导"
   ],
   "metadata": {
    "collapsed": false
   }
  },
  {
   "cell_type": "code",
   "execution_count": 34,
   "outputs": [
    {
     "data": {
      "text/plain": "x**3",
      "text/latex": "$\\displaystyle x^{3}$"
     },
     "execution_count": 34,
     "metadata": {},
     "output_type": "execute_result"
    }
   ],
   "source": [
    "(3 * x ** 2).integrate(x)  # 积分"
   ],
   "metadata": {
    "collapsed": false
   }
  },
  {
   "cell_type": "markdown",
   "source": [
    "### exercises\n",
    "\n",
    "**exec1**: f(x) = 0 的积分是多少 ."
   ],
   "metadata": {
    "collapsed": false
   }
  },
  {
   "cell_type": "code",
   "execution_count": 35,
   "outputs": [
    {
     "data": {
      "text/plain": "0",
      "text/latex": "$\\displaystyle 0$"
     },
     "execution_count": 35,
     "metadata": {},
     "output_type": "execute_result"
    }
   ],
   "source": [
    "x = Symbol('x')\n",
    "# Integer(0) 表示的是 数 0 的表达式\n",
    "Integer(0).integrate(x)"
   ],
   "metadata": {
    "collapsed": false
   }
  },
  {
   "cell_type": "markdown",
   "source": [
    "**exec2:** xcos(x) 的积分是 ?"
   ],
   "metadata": {
    "collapsed": false
   }
  },
  {
   "cell_type": "code",
   "execution_count": 36,
   "outputs": [
    {
     "data": {
      "text/plain": "x*sin(x) + cos(x)",
      "text/latex": "$\\displaystyle x \\sin{\\left(x \\right)} + \\cos{\\left(x \\right)}$"
     },
     "execution_count": 36,
     "metadata": {},
     "output_type": "execute_result"
    }
   ],
   "source": [
    "(x * cos(x)).integrate(x)"
   ],
   "metadata": {
    "collapsed": false
   }
  },
  {
   "cell_type": "markdown",
   "source": [
    "## 总结\n",
    "\n",
    "- 将代数表达式建模为数据结构而不是代码字符串， 可以让你编写程序来回答更多关于表达式的问题\n",
    "- 在代码中对代数表达式进行建模的 自然方式 是作为树来处理\n",
    "    - 树的节点可以分为独立表达式 单元\n",
    "- 通过递归遍历每1个表达式树， 可以回答关于它的一些问题. 比如它包含哪些变量.\n",
    "- 如果知道定义 1个函数的表达式， 就可以应用一些法则将其转化为函数的导数表达式 ;\n",
    "- 如果 python 表达式树中每个组合器对应的导数规则编程 . 就能得到1个自动计算导数表达式的 Python 函数\n",
    "- symPy 是1个强大的库. 可以处理 代数表达式. 有内置的简化, 替换和导数替换函数 . 还有符号积分函数, 可以用来求函数的不定积分公式 ."
   ],
   "metadata": {
    "collapsed": false
   }
  }
 ],
 "metadata": {
  "kernelspec": {
   "display_name": "Python 3",
   "language": "python",
   "name": "python3"
  },
  "language_info": {
   "codemirror_mode": {
    "name": "ipython",
    "version": 2
   },
   "file_extension": ".py",
   "mimetype": "text/x-python",
   "name": "python",
   "nbconvert_exporter": "python",
   "pygments_lexer": "ipython2",
   "version": "2.7.6"
  }
 },
 "nbformat": 4,
 "nbformat_minor": 0
}
