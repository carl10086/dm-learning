{
 "cells": [
  {
   "cell_type": "markdown",
   "source": [
    "微积分的技术 适用于一些 良态的函数.\n",
    "\n",
    "- 但是， 要存在导数的前提是 , 函数 **连续的， 平滑的**\n",
    "\n",
    "如果要计算精确的导数, 函数还要有 简单的公式 .\n",
    "\n",
    "但是, 对于实际中的 大多数数据而言 ， 不会那么的 lucky .\n",
    "\n",
    "由于 **随机性** 或者 **测量误差** 我们很少能碰见 完全平滑函数 .\n",
    "\n",
    "这里介绍的技术就是 用1个 简单的函数对混乱的数据 进行建模 这个过程叫做回归 !\n",
    "\n",
    "我们用 一个真实的数据集作为例子, 这些数据来自 CarGraph ."
   ],
   "metadata": {
    "collapsed": false
   }
  },
  {
   "cell_type": "code",
   "execution_count": 2,
   "outputs": [],
   "source": [
    "import numpy as np\n",
    "import matplotlib.pyplot as plt\n",
    "import math\n",
    "import os\n",
    "import sys\n",
    "\n",
    "module_path = os.path.abspath(os.path.join('..'))\n",
    "if module_path not in sys.path:\n",
    "    sys.path.append(module_path)"
   ],
   "metadata": {
    "collapsed": false
   }
  },
  {
   "cell_type": "markdown",
   "source": [
    "我们没有办法画出  经过这些点的平滑函数， 而且没有意义\n",
    "\n",
    "- 大量的异常值\n",
    "- 少数错误值\n",
    "\n",
    "我们的目标是找到一个 **近似于** 这些数据的 趋势函数 .\n",
    "\n",
    "我们的函数 p(x) 接收 里程数 x 作为输入, 并且返回行驶了给定里程的 Car 的典型价格 .\n",
    "\n",
    "我们从最简单的函数 : 线性函数开始 .\n",
    "\n",
    "线性函数可以是多种形式.我们用的不是最标准的.\n",
    "\n",
    "$$\n",
    "p(x) = ax + b\n",
    "$$"
   ],
   "metadata": {
    "collapsed": false
   }
  },
  {
   "cell_type": "markdown",
   "source": [
    "其中, a 是斜率, b 是 截距 .\n",
    "\n",
    "选择这个预测函数意味着:\n",
    "\n",
    "- 新车是 20_000 美元\n",
    "- 折旧率 或者说 贬值率是 没英里 0.05 美元左右\n",
    "\n",
    "这些数据可能对 or not ， 很明显 **有问题**, 大多数的点不接近他 .\n",
    "寻找 a 和 b 的值让 p(x) 尽量的接近趋势 ，这个工作过程就是 **线性回归** .\n",
    "\n",
    "一旦我们找到了 就说 p(x) 是最佳拟合线 .\n",
    "\n",
    "我们可以基于历史的数据就直接得到他, 这就是 为什么回归是 机器学习算法的一个 简单例子 :\n",
    "\n",
    "他根据 **历史的已有数据** 就可以去推断出一种趋势， 用来对新的数据点进行预测 。\n",
    "\n",
    "我们这里的唯一约束就是， 要寻找一个线性函数 。\n",
    "\n",
    "- 这不是事实\n",
    "- 我们暂时的目标不是 完美， 而是 简单\n",
    "\n",
    "第一件的事情就是 去衡量一个给定的 线性函数， 也就是说， 给定的 a 和 b 对价格的预测要有多好 ！\n",
    "\n",
    "为此，我们要实现一个函数叫做 , `cost function` 的函数， 它取 p(x) 为输入， 并且返回 1个数， 表示 p(x) 离原始数据有多远 。\n",
    "\n",
    "\n",
    "然后就可以对任意数 a 和 b, 用这个代价函数来衡量函数 p(x) = ax + b 和 数据的 **拟合程度** .\n",
    "\n",
    "每一个数对 (a, b) 都对应一个线性函数 ， so 这个任务其实是在 在探索 1个二维的线性空间 .\n",
    "\n",
    "我们需要的 a 和 b 不仅仅能使 代价函数 变小, 而且能使得它尽可能精确的 最小函数 .\n",
    "\n",
    "第二个函数叫做 `linear_regression` . 它能自动找到  a 和 b 的最佳值， 也就是所谓的 **最佳拟合线** 。\n",
    "\n"
   ],
   "metadata": {
    "collapsed": false
   }
  },
  {
   "cell_type": "markdown",
   "source": [
    "为此 我们会建立一个一个函数, 计算任意给定的 a 和 b  值的代价, 并且使用 梯度下降的技术让他 最小化 ."
   ],
   "metadata": {
    "collapsed": false
   }
  },
  {
   "cell_type": "markdown",
   "source": [
    "# 1. 衡量函数的拟合质量\n",
    "\n"
   ],
   "metadata": {
    "collapsed": false
   }
  },
  {
   "cell_type": "markdown",
   "source": [],
   "metadata": {
    "collapsed": false
   }
  }
 ],
 "metadata": {
  "kernelspec": {
   "display_name": "Python 3",
   "language": "python",
   "name": "python3"
  },
  "language_info": {
   "codemirror_mode": {
    "name": "ipython",
    "version": 2
   },
   "file_extension": ".py",
   "mimetype": "text/x-python",
   "name": "python",
   "nbconvert_exporter": "python",
   "pygments_lexer": "ipython2",
   "version": "2.7.6"
  }
 },
 "nbformat": 4,
 "nbformat_minor": 0
}
